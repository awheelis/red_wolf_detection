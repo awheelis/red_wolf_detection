{
 "cells": [
  {
   "cell_type": "code",
   "execution_count": 19,
   "id": "07db588a-37b5-4032-9909-5cc4b6b50528",
   "metadata": {},
   "outputs": [
    {
     "name": "stderr",
     "output_type": "stream",
     "text": [
      "  1%|▏         | 7/559 [00:00<00:09, 57.45it/s]"
     ]
    },
    {
     "name": "stdout",
     "output_type": "stream",
     "text": [
      "/Users/alex_wheelis/Documents/programming/red_wolf_detection/human_detector_output/pred_348.png\n",
      "/Users/alex_wheelis/Documents/programming/red_wolf_detection/human_detector_output/pred_412.png\n",
      "/Users/alex_wheelis/Documents/programming/red_wolf_detection/human_detector_output/pred_374.png\n",
      "/Users/alex_wheelis/Documents/programming/red_wolf_detection/human_detector_output/pred_360.png\n",
      "/Users/alex_wheelis/Documents/programming/red_wolf_detection/human_detector_output/pred_406.png\n",
      "/Users/alex_wheelis/Documents/programming/red_wolf_detection/human_detector_output/pred_176.png\n",
      "/Users/alex_wheelis/Documents/programming/red_wolf_detection/human_detector_output/pred_88.png\n"
     ]
    },
    {
     "name": "stderr",
     "output_type": "stream",
     "text": [
      "  2%|▏         | 13/559 [00:00<00:33, 16.30it/s]"
     ]
    },
    {
     "name": "stdout",
     "output_type": "stream",
     "text": [
      "/Users/alex_wheelis/Documents/programming/red_wolf_detection/human_detector_output/pred_162.png\n",
      "/Users/alex_wheelis/Documents/programming/red_wolf_detection/human_detector_output/pred_189.png\n",
      "/Users/alex_wheelis/Documents/programming/red_wolf_detection/human_detector_output/pred_77.png\n",
      "/Users/alex_wheelis/Documents/programming/red_wolf_detection/human_detector_output/pred_63.png\n",
      "/Users/alex_wheelis/Documents/programming/red_wolf_detection/human_detector_output/pred_228.png\n",
      "/Users/alex_wheelis/Documents/programming/red_wolf_detection/human_detector_output/pred_200.png\n",
      "/Users/alex_wheelis/Documents/programming/red_wolf_detection/human_detector_output/pred_214.png\n",
      "/Users/alex_wheelis/Documents/programming/red_wolf_detection/human_detector_output/pred_215.png\n",
      "/Users/alex_wheelis/Documents/programming/red_wolf_detection/human_detector_output/pred_201.png\n",
      "/Users/alex_wheelis/Documents/programming/red_wolf_detection/human_detector_output/pred_229.png\n",
      "/Users/alex_wheelis/Documents/programming/red_wolf_detection/human_detector_output/pred_62.png\n",
      "/Users/alex_wheelis/Documents/programming/red_wolf_detection/human_detector_output/pred_188.png\n"
     ]
    },
    {
     "name": "stderr",
     "output_type": "stream",
     "text": [
      "  4%|▎         | 20/559 [00:00<00:22, 24.06it/s]"
     ]
    },
    {
     "name": "stdout",
     "output_type": "stream",
     "text": [
      "/Users/alex_wheelis/Documents/programming/red_wolf_detection/human_detector_output/pred_76.png\n"
     ]
    },
    {
     "name": "stderr",
     "output_type": "stream",
     "text": [
      "  6%|▌         | 34/559 [00:03<00:49, 10.65it/s]"
     ]
    },
    {
     "name": "stdout",
     "output_type": "stream",
     "text": [
      "/Users/alex_wheelis/Documents/programming/red_wolf_detection/human_detector_output/pred_163.png\n",
      "/Users/alex_wheelis/Documents/programming/red_wolf_detection/human_detector_output/pred_177.png\n",
      "/Users/alex_wheelis/Documents/programming/red_wolf_detection/human_detector_output/pred_89.png\n",
      "/Users/alex_wheelis/Documents/programming/red_wolf_detection/human_detector_output/pred_361.png\n",
      "/Users/alex_wheelis/Documents/programming/red_wolf_detection/human_detector_output/pred_407.png\n",
      "/Users/alex_wheelis/Documents/programming/red_wolf_detection/human_detector_output/pred_413.png\n",
      "/Users/alex_wheelis/Documents/programming/red_wolf_detection/human_detector_output/pred_375.png\n",
      "/Users/alex_wheelis/Documents/programming/red_wolf_detection/human_detector_output/pred_349.png\n",
      "/Users/alex_wheelis/Documents/programming/red_wolf_detection/human_detector_output/pred_439.png\n",
      "/Users/alex_wheelis/Documents/programming/red_wolf_detection/human_detector_output/pred_405.png\n",
      "/Users/alex_wheelis/Documents/programming/red_wolf_detection/human_detector_output/pred_363.png\n",
      "/Users/alex_wheelis/Documents/programming/red_wolf_detection/human_detector_output/pred_377.png\n",
      "/Users/alex_wheelis/Documents/programming/red_wolf_detection/human_detector_output/pred_411.png\n",
      "/Users/alex_wheelis/Documents/programming/red_wolf_detection/human_detector_output/pred_388.png\n",
      "/Users/alex_wheelis/Documents/programming/red_wolf_detection/human_detector_output/pred_149.png\n"
     ]
    },
    {
     "name": "stderr",
     "output_type": "stream",
     "text": [
      "  7%|▋         | 39/559 [00:06<02:10,  3.98it/s]"
     ]
    },
    {
     "name": "stdout",
     "output_type": "stream",
     "text": [
      "/Users/alex_wheelis/Documents/programming/red_wolf_detection/human_detector_output/pred_161.png\n",
      "/Users/alex_wheelis/Documents/programming/red_wolf_detection/human_detector_output/pred_175.png\n",
      "/Users/alex_wheelis/Documents/programming/red_wolf_detection/human_detector_output/pred_60.png\n",
      "/Users/alex_wheelis/Documents/programming/red_wolf_detection/human_detector_output/pred_74.png\n",
      "/Users/alex_wheelis/Documents/programming/red_wolf_detection/human_detector_output/pred_48.png\n",
      "/Users/alex_wheelis/Documents/programming/red_wolf_detection/human_detector_output/pred_217.png\n",
      "/Users/alex_wheelis/Documents/programming/red_wolf_detection/human_detector_output/pred_203.png\n",
      "/Users/alex_wheelis/Documents/programming/red_wolf_detection/human_detector_output/pred_202.png\n",
      "/Users/alex_wheelis/Documents/programming/red_wolf_detection/human_detector_output/pred_216.png\n"
     ]
    },
    {
     "name": "stderr",
     "output_type": "stream",
     "text": [
      "  8%|▊         | 47/559 [00:06<01:23,  6.14it/s]"
     ]
    },
    {
     "name": "stdout",
     "output_type": "stream",
     "text": [
      "/Users/alex_wheelis/Documents/programming/red_wolf_detection/human_detector_output/pred_558.png\n",
      "/Users/alex_wheelis/Documents/programming/red_wolf_detection/human_detector_output/pred_49.png\n",
      "/Users/alex_wheelis/Documents/programming/red_wolf_detection/human_detector_output/pred_75.png\n",
      "/Users/alex_wheelis/Documents/programming/red_wolf_detection/human_detector_output/pred_61.png\n",
      "/Users/alex_wheelis/Documents/programming/red_wolf_detection/human_detector_output/pred_174.png\n",
      "/Users/alex_wheelis/Documents/programming/red_wolf_detection/human_detector_output/pred_160.png\n"
     ]
    },
    {
     "name": "stderr",
     "output_type": "stream",
     "text": [
      " 11%|█         | 59/559 [00:09<01:22,  6.03it/s]"
     ]
    },
    {
     "name": "stdout",
     "output_type": "stream",
     "text": [
      "/Users/alex_wheelis/Documents/programming/red_wolf_detection/human_detector_output/pred_148.png\n",
      "/Users/alex_wheelis/Documents/programming/red_wolf_detection/human_detector_output/pred_389.png\n",
      "/Users/alex_wheelis/Documents/programming/red_wolf_detection/human_detector_output/pred_376.png\n",
      "/Users/alex_wheelis/Documents/programming/red_wolf_detection/human_detector_output/pred_410.png\n",
      "/Users/alex_wheelis/Documents/programming/red_wolf_detection/human_detector_output/pred_404.png\n",
      "/Users/alex_wheelis/Documents/programming/red_wolf_detection/human_detector_output/pred_362.png\n",
      "/Users/alex_wheelis/Documents/programming/red_wolf_detection/human_detector_output/pred_438.png\n",
      "/Users/alex_wheelis/Documents/programming/red_wolf_detection/human_detector_output/pred_366.png\n",
      "/Users/alex_wheelis/Documents/programming/red_wolf_detection/human_detector_output/pred_400.png\n",
      "/Users/alex_wheelis/Documents/programming/red_wolf_detection/human_detector_output/pred_414.png\n",
      "/Users/alex_wheelis/Documents/programming/red_wolf_detection/human_detector_output/pred_372.png\n",
      "/Users/alex_wheelis/Documents/programming/red_wolf_detection/human_detector_output/pred_428.png\n",
      "/Users/alex_wheelis/Documents/programming/red_wolf_detection/human_detector_output/pred_399.png\n",
      "/Users/alex_wheelis/Documents/programming/red_wolf_detection/human_detector_output/pred_164.png\n"
     ]
    },
    {
     "name": "stderr",
     "output_type": "stream",
     "text": [
      " 12%|█▏        | 65/559 [00:09<01:12,  6.81it/s]"
     ]
    },
    {
     "name": "stdout",
     "output_type": "stream",
     "text": [
      "/Users/alex_wheelis/Documents/programming/red_wolf_detection/human_detector_output/pred_170.png\n"
     ]
    },
    {
     "name": "stderr",
     "output_type": "stream",
     "text": [
      " 12%|█▏        | 69/559 [00:11<01:55,  4.24it/s]"
     ]
    },
    {
     "name": "stdout",
     "output_type": "stream",
     "text": [
      "/Users/alex_wheelis/Documents/programming/red_wolf_detection/human_detector_output/pred_158.png\n",
      "/Users/alex_wheelis/Documents/programming/red_wolf_detection/human_detector_output/pred_59.png\n",
      "/Users/alex_wheelis/Documents/programming/red_wolf_detection/human_detector_output/pred_65.png\n",
      "/Users/alex_wheelis/Documents/programming/red_wolf_detection/human_detector_output/pred_71.png\n",
      "/Users/alex_wheelis/Documents/programming/red_wolf_detection/human_detector_output/pred_212.png\n",
      "/Users/alex_wheelis/Documents/programming/red_wolf_detection/human_detector_output/pred_206.png\n",
      "/Users/alex_wheelis/Documents/programming/red_wolf_detection/human_detector_output/pred_548.png\n"
     ]
    },
    {
     "name": "stderr",
     "output_type": "stream",
     "text": [
      " 13%|█▎        | 73/559 [00:12<01:30,  5.36it/s]"
     ]
    },
    {
     "name": "stdout",
     "output_type": "stream",
     "text": [
      "/Users/alex_wheelis/Documents/programming/red_wolf_detection/human_detector_output/pred_549.png\n",
      "/Users/alex_wheelis/Documents/programming/red_wolf_detection/human_detector_output/pred_207.png\n",
      "/Users/alex_wheelis/Documents/programming/red_wolf_detection/human_detector_output/pred_213.png\n",
      "/Users/alex_wheelis/Documents/programming/red_wolf_detection/human_detector_output/pred_70.png\n",
      "/Users/alex_wheelis/Documents/programming/red_wolf_detection/human_detector_output/pred_64.png\n",
      "/Users/alex_wheelis/Documents/programming/red_wolf_detection/human_detector_output/pred_58.png\n"
     ]
    },
    {
     "name": "stderr",
     "output_type": "stream",
     "text": [
      " 14%|█▍        | 79/559 [00:13<01:49,  4.37it/s]"
     ]
    },
    {
     "name": "stdout",
     "output_type": "stream",
     "text": [
      "/Users/alex_wheelis/Documents/programming/red_wolf_detection/human_detector_output/pred_159.png\n",
      "/Users/alex_wheelis/Documents/programming/red_wolf_detection/human_detector_output/pred_171.png\n"
     ]
    },
    {
     "name": "stderr",
     "output_type": "stream",
     "text": [
      " 16%|█▌        | 90/559 [00:18<02:07,  3.67it/s]"
     ]
    },
    {
     "name": "stdout",
     "output_type": "stream",
     "text": [
      "/Users/alex_wheelis/Documents/programming/red_wolf_detection/human_detector_output/pred_165.png\n",
      "/Users/alex_wheelis/Documents/programming/red_wolf_detection/human_detector_output/pred_398.png\n",
      "/Users/alex_wheelis/Documents/programming/red_wolf_detection/human_detector_output/pred_429.png\n",
      "/Users/alex_wheelis/Documents/programming/red_wolf_detection/human_detector_output/pred_415.png\n",
      "/Users/alex_wheelis/Documents/programming/red_wolf_detection/human_detector_output/pred_373.png\n",
      "/Users/alex_wheelis/Documents/programming/red_wolf_detection/human_detector_output/pred_367.png\n",
      "/Users/alex_wheelis/Documents/programming/red_wolf_detection/human_detector_output/pred_401.png\n",
      "/Users/alex_wheelis/Documents/programming/red_wolf_detection/human_detector_output/pred_371.png\n",
      "/Users/alex_wheelis/Documents/programming/red_wolf_detection/human_detector_output/pred_417.png\n",
      "/Users/alex_wheelis/Documents/programming/red_wolf_detection/human_detector_output/pred_403.png\n",
      "/Users/alex_wheelis/Documents/programming/red_wolf_detection/human_detector_output/pred_365.png\n",
      "/Users/alex_wheelis/Documents/programming/red_wolf_detection/human_detector_output/pred_359.png\n",
      "/Users/alex_wheelis/Documents/programming/red_wolf_detection/human_detector_output/pred_173.png\n"
     ]
    },
    {
     "name": "stderr",
     "output_type": "stream",
     "text": [
      " 17%|█▋        | 97/559 [00:20<02:11,  3.52it/s]"
     ]
    },
    {
     "name": "stdout",
     "output_type": "stream",
     "text": [
      "/Users/alex_wheelis/Documents/programming/red_wolf_detection/human_detector_output/pred_167.png\n",
      "/Users/alex_wheelis/Documents/programming/red_wolf_detection/human_detector_output/pred_99.png\n",
      "/Users/alex_wheelis/Documents/programming/red_wolf_detection/human_detector_output/pred_8.png\n",
      "/Users/alex_wheelis/Documents/programming/red_wolf_detection/human_detector_output/pred_72.png\n",
      "/Users/alex_wheelis/Documents/programming/red_wolf_detection/human_detector_output/pred_198.png\n"
     ]
    },
    {
     "name": "stderr",
     "output_type": "stream",
     "text": [
      " 19%|█▉        | 109/559 [00:21<01:00,  7.43it/s]"
     ]
    },
    {
     "name": "stdout",
     "output_type": "stream",
     "text": [
      "/Users/alex_wheelis/Documents/programming/red_wolf_detection/human_detector_output/pred_66.png\n",
      "/Users/alex_wheelis/Documents/programming/red_wolf_detection/human_detector_output/pred_205.png\n",
      "/Users/alex_wheelis/Documents/programming/red_wolf_detection/human_detector_output/pred_211.png\n",
      "/Users/alex_wheelis/Documents/programming/red_wolf_detection/human_detector_output/pred_239.png\n",
      "/Users/alex_wheelis/Documents/programming/red_wolf_detection/human_detector_output/pred_238.png\n",
      "/Users/alex_wheelis/Documents/programming/red_wolf_detection/human_detector_output/pred_210.png\n",
      "/Users/alex_wheelis/Documents/programming/red_wolf_detection/human_detector_output/pred_204.png\n",
      "/Users/alex_wheelis/Documents/programming/red_wolf_detection/human_detector_output/pred_199.png\n",
      "/Users/alex_wheelis/Documents/programming/red_wolf_detection/human_detector_output/pred_67.png\n",
      "/Users/alex_wheelis/Documents/programming/red_wolf_detection/human_detector_output/pred_73.png\n",
      "/Users/alex_wheelis/Documents/programming/red_wolf_detection/human_detector_output/pred_9.png\n",
      "/Users/alex_wheelis/Documents/programming/red_wolf_detection/human_detector_output/pred_166.png\n",
      "/Users/alex_wheelis/Documents/programming/red_wolf_detection/human_detector_output/pred_98.png\n"
     ]
    },
    {
     "name": "stderr",
     "output_type": "stream",
     "text": [
      " 21%|██        | 118/559 [00:23<01:21,  5.44it/s]"
     ]
    },
    {
     "name": "stdout",
     "output_type": "stream",
     "text": [
      "/Users/alex_wheelis/Documents/programming/red_wolf_detection/human_detector_output/pred_172.png\n",
      "/Users/alex_wheelis/Documents/programming/red_wolf_detection/human_detector_output/pred_358.png\n",
      "/Users/alex_wheelis/Documents/programming/red_wolf_detection/human_detector_output/pred_402.png\n",
      "/Users/alex_wheelis/Documents/programming/red_wolf_detection/human_detector_output/pred_364.png\n",
      "/Users/alex_wheelis/Documents/programming/red_wolf_detection/human_detector_output/pred_370.png\n",
      "/Users/alex_wheelis/Documents/programming/red_wolf_detection/human_detector_output/pred_416.png\n",
      "/Users/alex_wheelis/Documents/programming/red_wolf_detection/human_detector_output/pred_459.png\n",
      "/Users/alex_wheelis/Documents/programming/red_wolf_detection/human_detector_output/pred_317.png\n",
      "/Users/alex_wheelis/Documents/programming/red_wolf_detection/human_detector_output/pred_471.png\n",
      "/Users/alex_wheelis/Documents/programming/red_wolf_detection/human_detector_output/pred_465.png\n",
      "/Users/alex_wheelis/Documents/programming/red_wolf_detection/human_detector_output/pred_303.png\n"
     ]
    },
    {
     "name": "stderr",
     "output_type": "stream",
     "text": [
      " 22%|██▏       | 123/559 [00:23<00:59,  7.31it/s]"
     ]
    },
    {
     "name": "stdout",
     "output_type": "stream",
     "text": [
      "/Users/alex_wheelis/Documents/programming/red_wolf_detection/human_detector_output/pred_129.png\n",
      "/Users/alex_wheelis/Documents/programming/red_wolf_detection/human_detector_output/pred_115.png\n",
      "/Users/alex_wheelis/Documents/programming/red_wolf_detection/human_detector_output/pred_101.png\n"
     ]
    },
    {
     "name": "stderr",
     "output_type": "stream",
     "text": [
      " 23%|██▎       | 127/559 [00:24<00:52,  8.20it/s]"
     ]
    },
    {
     "name": "stdout",
     "output_type": "stream",
     "text": [
      "/Users/alex_wheelis/Documents/programming/red_wolf_detection/human_detector_output/pred_14.png\n",
      "/Users/alex_wheelis/Documents/programming/red_wolf_detection/human_detector_output/pred_28.png\n",
      "/Users/alex_wheelis/Documents/programming/red_wolf_detection/human_detector_output/pred_539.png\n",
      "/Users/alex_wheelis/Documents/programming/red_wolf_detection/human_detector_output/pred_263.png\n"
     ]
    },
    {
     "name": "stderr",
     "output_type": "stream",
     "text": [
      " 23%|██▎       | 130/559 [00:24<01:04,  6.62it/s]"
     ]
    },
    {
     "name": "stdout",
     "output_type": "stream",
     "text": [
      "/Users/alex_wheelis/Documents/programming/red_wolf_detection/human_detector_output/pred_505.png\n"
     ]
    },
    {
     "name": "stderr",
     "output_type": "stream",
     "text": [
      " 24%|██▍       | 133/559 [00:27<02:11,  3.25it/s]"
     ]
    },
    {
     "name": "stdout",
     "output_type": "stream",
     "text": [
      "/Users/alex_wheelis/Documents/programming/red_wolf_detection/human_detector_output/pred_511.png\n",
      "/Users/alex_wheelis/Documents/programming/red_wolf_detection/human_detector_output/pred_277.png\n",
      "/Users/alex_wheelis/Documents/programming/red_wolf_detection/human_detector_output/pred_288.png\n",
      "/Users/alex_wheelis/Documents/programming/red_wolf_detection/human_detector_output/pred_289.png\n"
     ]
    },
    {
     "name": "stderr",
     "output_type": "stream",
     "text": [
      " 24%|██▍       | 135/559 [00:27<02:01,  3.49it/s]"
     ]
    },
    {
     "name": "stdout",
     "output_type": "stream",
     "text": [
      "/Users/alex_wheelis/Documents/programming/red_wolf_detection/human_detector_output/pred_510.png\n",
      "/Users/alex_wheelis/Documents/programming/red_wolf_detection/human_detector_output/pred_276.png\n",
      "/Users/alex_wheelis/Documents/programming/red_wolf_detection/human_detector_output/pred_262.png\n"
     ]
    },
    {
     "name": "stderr",
     "output_type": "stream",
     "text": [
      " 25%|██▌       | 141/559 [00:28<01:20,  5.18it/s]"
     ]
    },
    {
     "name": "stdout",
     "output_type": "stream",
     "text": [
      "/Users/alex_wheelis/Documents/programming/red_wolf_detection/human_detector_output/pred_504.png\n",
      "/Users/alex_wheelis/Documents/programming/red_wolf_detection/human_detector_output/pred_538.png\n",
      "/Users/alex_wheelis/Documents/programming/red_wolf_detection/human_detector_output/pred_29.png\n",
      "/Users/alex_wheelis/Documents/programming/red_wolf_detection/human_detector_output/pred_15.png\n",
      "/Users/alex_wheelis/Documents/programming/red_wolf_detection/human_detector_output/pred_100.png\n",
      "/Users/alex_wheelis/Documents/programming/red_wolf_detection/human_detector_output/pred_114.png\n"
     ]
    },
    {
     "name": "stderr",
     "output_type": "stream",
     "text": [
      " 27%|██▋       | 151/559 [00:28<00:34, 11.84it/s]"
     ]
    },
    {
     "name": "stdout",
     "output_type": "stream",
     "text": [
      "/Users/alex_wheelis/Documents/programming/red_wolf_detection/human_detector_output/pred_128.png\n",
      "/Users/alex_wheelis/Documents/programming/red_wolf_detection/human_detector_output/pred_464.png\n",
      "/Users/alex_wheelis/Documents/programming/red_wolf_detection/human_detector_output/pred_302.png\n",
      "/Users/alex_wheelis/Documents/programming/red_wolf_detection/human_detector_output/pred_316.png\n",
      "/Users/alex_wheelis/Documents/programming/red_wolf_detection/human_detector_output/pred_470.png\n",
      "/Users/alex_wheelis/Documents/programming/red_wolf_detection/human_detector_output/pred_458.png\n",
      "/Users/alex_wheelis/Documents/programming/red_wolf_detection/human_detector_output/pred_328.png\n",
      "/Users/alex_wheelis/Documents/programming/red_wolf_detection/human_detector_output/pred_300.png\n",
      "/Users/alex_wheelis/Documents/programming/red_wolf_detection/human_detector_output/pred_466.png\n",
      "/Users/alex_wheelis/Documents/programming/red_wolf_detection/human_detector_output/pred_472.png\n",
      "/Users/alex_wheelis/Documents/programming/red_wolf_detection/human_detector_output/pred_314.png\n"
     ]
    },
    {
     "name": "stderr",
     "output_type": "stream",
     "text": [
      " 28%|██▊       | 158/559 [00:30<01:04,  6.23it/s]"
     ]
    },
    {
     "name": "stdout",
     "output_type": "stream",
     "text": [
      "/Users/alex_wheelis/Documents/programming/red_wolf_detection/human_detector_output/pred_499.png\n",
      "/Users/alex_wheelis/Documents/programming/red_wolf_detection/human_detector_output/pred_102.png\n",
      "/Users/alex_wheelis/Documents/programming/red_wolf_detection/human_detector_output/pred_116.png\n",
      "/Users/alex_wheelis/Documents/programming/red_wolf_detection/human_detector_output/pred_17.png\n",
      "/Users/alex_wheelis/Documents/programming/red_wolf_detection/human_detector_output/pred_248.png\n",
      "/Users/alex_wheelis/Documents/programming/red_wolf_detection/human_detector_output/pred_274.png\n"
     ]
    },
    {
     "name": "stderr",
     "output_type": "stream",
     "text": [
      " 29%|██▉       | 161/559 [00:32<01:58,  3.36it/s]"
     ]
    },
    {
     "name": "stdout",
     "output_type": "stream",
     "text": [
      "/Users/alex_wheelis/Documents/programming/red_wolf_detection/human_detector_output/pred_512.png\n"
     ]
    },
    {
     "name": "stderr",
     "output_type": "stream",
     "text": [
      " 29%|██▉       | 163/559 [00:33<01:51,  3.54it/s]"
     ]
    },
    {
     "name": "stdout",
     "output_type": "stream",
     "text": [
      "/Users/alex_wheelis/Documents/programming/red_wolf_detection/human_detector_output/pred_506.png\n",
      "/Users/alex_wheelis/Documents/programming/red_wolf_detection/human_detector_output/pred_260.png\n"
     ]
    },
    {
     "name": "stderr",
     "output_type": "stream",
     "text": [
      " 30%|██▉       | 165/559 [00:35<02:45,  2.39it/s]"
     ]
    },
    {
     "name": "stdout",
     "output_type": "stream",
     "text": [
      "/Users/alex_wheelis/Documents/programming/red_wolf_detection/human_detector_output/pred_507.png\n",
      "/Users/alex_wheelis/Documents/programming/red_wolf_detection/human_detector_output/pred_261.png\n",
      "/Users/alex_wheelis/Documents/programming/red_wolf_detection/human_detector_output/pred_275.png\n"
     ]
    },
    {
     "name": "stderr",
     "output_type": "stream",
     "text": [
      " 30%|███       | 170/559 [00:35<01:40,  3.87it/s]"
     ]
    },
    {
     "name": "stdout",
     "output_type": "stream",
     "text": [
      "/Users/alex_wheelis/Documents/programming/red_wolf_detection/human_detector_output/pred_513.png\n",
      "/Users/alex_wheelis/Documents/programming/red_wolf_detection/human_detector_output/pred_249.png\n",
      "/Users/alex_wheelis/Documents/programming/red_wolf_detection/human_detector_output/pred_16.png\n",
      "/Users/alex_wheelis/Documents/programming/red_wolf_detection/human_detector_output/pred_117.png\n",
      "/Users/alex_wheelis/Documents/programming/red_wolf_detection/human_detector_output/pred_103.png\n"
     ]
    },
    {
     "name": "stderr",
     "output_type": "stream",
     "text": [
      " 32%|███▏      | 181/559 [00:36<00:40,  9.37it/s]"
     ]
    },
    {
     "name": "stdout",
     "output_type": "stream",
     "text": [
      "/Users/alex_wheelis/Documents/programming/red_wolf_detection/human_detector_output/pred_498.png\n",
      "/Users/alex_wheelis/Documents/programming/red_wolf_detection/human_detector_output/pred_473.png\n",
      "/Users/alex_wheelis/Documents/programming/red_wolf_detection/human_detector_output/pred_315.png\n",
      "/Users/alex_wheelis/Documents/programming/red_wolf_detection/human_detector_output/pred_301.png\n",
      "/Users/alex_wheelis/Documents/programming/red_wolf_detection/human_detector_output/pred_467.png\n",
      "/Users/alex_wheelis/Documents/programming/red_wolf_detection/human_detector_output/pred_329.png\n",
      "/Users/alex_wheelis/Documents/programming/red_wolf_detection/human_detector_output/pred_463.png\n",
      "/Users/alex_wheelis/Documents/programming/red_wolf_detection/human_detector_output/pred_305.png\n",
      "/Users/alex_wheelis/Documents/programming/red_wolf_detection/human_detector_output/pred_311.png\n",
      "/Users/alex_wheelis/Documents/programming/red_wolf_detection/human_detector_output/pred_477.png\n",
      "/Users/alex_wheelis/Documents/programming/red_wolf_detection/human_detector_output/pred_339.png\n"
     ]
    },
    {
     "name": "stderr",
     "output_type": "stream",
     "text": [
      " 33%|███▎      | 185/559 [00:38<01:30,  4.13it/s]"
     ]
    },
    {
     "name": "stdout",
     "output_type": "stream",
     "text": [
      "/Users/alex_wheelis/Documents/programming/red_wolf_detection/human_detector_output/pred_488.png\n",
      "/Users/alex_wheelis/Documents/programming/red_wolf_detection/human_detector_output/pred_107.png\n",
      "/Users/alex_wheelis/Documents/programming/red_wolf_detection/human_detector_output/pred_113.png\n",
      "/Users/alex_wheelis/Documents/programming/red_wolf_detection/human_detector_output/pred_12.png\n"
     ]
    },
    {
     "name": "stderr",
     "output_type": "stream",
     "text": [
      " 34%|███▎      | 188/559 [00:39<01:27,  4.22it/s]"
     ]
    },
    {
     "name": "stdout",
     "output_type": "stream",
     "text": [
      "/Users/alex_wheelis/Documents/programming/red_wolf_detection/human_detector_output/pred_517.png\n",
      "/Users/alex_wheelis/Documents/programming/red_wolf_detection/human_detector_output/pred_271.png\n",
      "/Users/alex_wheelis/Documents/programming/red_wolf_detection/human_detector_output/pred_265.png\n"
     ]
    },
    {
     "name": "stderr",
     "output_type": "stream",
     "text": [
      " 34%|███▍      | 190/559 [00:41<02:20,  2.62it/s]"
     ]
    },
    {
     "name": "stdout",
     "output_type": "stream",
     "text": [
      "/Users/alex_wheelis/Documents/programming/red_wolf_detection/human_detector_output/pred_503.png\n",
      "/Users/alex_wheelis/Documents/programming/red_wolf_detection/human_detector_output/pred_259.png\n",
      "/Users/alex_wheelis/Documents/programming/red_wolf_detection/human_detector_output/pred_258.png\n",
      "/Users/alex_wheelis/Documents/programming/red_wolf_detection/human_detector_output/pred_264.png\n"
     ]
    },
    {
     "name": "stderr",
     "output_type": "stream",
     "text": [
      " 35%|███▍      | 194/559 [00:42<02:22,  2.56it/s]"
     ]
    },
    {
     "name": "stdout",
     "output_type": "stream",
     "text": [
      "/Users/alex_wheelis/Documents/programming/red_wolf_detection/human_detector_output/pred_502.png\n"
     ]
    },
    {
     "name": "stderr",
     "output_type": "stream",
     "text": [
      " 35%|███▌      | 198/559 [00:43<01:39,  3.63it/s]"
     ]
    },
    {
     "name": "stdout",
     "output_type": "stream",
     "text": [
      "/Users/alex_wheelis/Documents/programming/red_wolf_detection/human_detector_output/pred_516.png\n",
      "/Users/alex_wheelis/Documents/programming/red_wolf_detection/human_detector_output/pred_270.png\n",
      "/Users/alex_wheelis/Documents/programming/red_wolf_detection/human_detector_output/pred_13.png\n",
      "/Users/alex_wheelis/Documents/programming/red_wolf_detection/human_detector_output/pred_112.png\n",
      "/Users/alex_wheelis/Documents/programming/red_wolf_detection/human_detector_output/pred_106.png\n"
     ]
    },
    {
     "name": "stderr",
     "output_type": "stream",
     "text": [
      " 38%|███▊      | 211/559 [00:45<00:54,  6.35it/s]"
     ]
    },
    {
     "name": "stdout",
     "output_type": "stream",
     "text": [
      "/Users/alex_wheelis/Documents/programming/red_wolf_detection/human_detector_output/pred_489.png\n",
      "/Users/alex_wheelis/Documents/programming/red_wolf_detection/human_detector_output/pred_338.png\n",
      "/Users/alex_wheelis/Documents/programming/red_wolf_detection/human_detector_output/pred_310.png\n",
      "/Users/alex_wheelis/Documents/programming/red_wolf_detection/human_detector_output/pred_476.png\n",
      "/Users/alex_wheelis/Documents/programming/red_wolf_detection/human_detector_output/pred_462.png\n",
      "/Users/alex_wheelis/Documents/programming/red_wolf_detection/human_detector_output/pred_304.png\n",
      "/Users/alex_wheelis/Documents/programming/red_wolf_detection/human_detector_output/pred_474.png\n",
      "/Users/alex_wheelis/Documents/programming/red_wolf_detection/human_detector_output/pred_312.png\n",
      "/Users/alex_wheelis/Documents/programming/red_wolf_detection/human_detector_output/pred_306.png\n",
      "/Users/alex_wheelis/Documents/programming/red_wolf_detection/human_detector_output/pred_460.png\n",
      "/Users/alex_wheelis/Documents/programming/red_wolf_detection/human_detector_output/pred_448.png\n",
      "/Users/alex_wheelis/Documents/programming/red_wolf_detection/human_detector_output/pred_110.png\n",
      "/Users/alex_wheelis/Documents/programming/red_wolf_detection/human_detector_output/pred_104.png\n"
     ]
    },
    {
     "name": "stderr",
     "output_type": "stream",
     "text": [
      " 38%|███▊      | 215/559 [00:47<01:20,  4.25it/s]"
     ]
    },
    {
     "name": "stdout",
     "output_type": "stream",
     "text": [
      "/Users/alex_wheelis/Documents/programming/red_wolf_detection/human_detector_output/pred_138.png\n",
      "/Users/alex_wheelis/Documents/programming/red_wolf_detection/human_detector_output/pred_39.png\n",
      "/Users/alex_wheelis/Documents/programming/red_wolf_detection/human_detector_output/pred_11.png\n"
     ]
    },
    {
     "name": "stderr",
     "output_type": "stream",
     "text": [
      " 39%|███▉      | 218/559 [00:47<01:14,  4.61it/s]"
     ]
    },
    {
     "name": "stdout",
     "output_type": "stream",
     "text": [
      "/Users/alex_wheelis/Documents/programming/red_wolf_detection/human_detector_output/pred_500.png\n",
      "/Users/alex_wheelis/Documents/programming/red_wolf_detection/human_detector_output/pred_266.png\n",
      "/Users/alex_wheelis/Documents/programming/red_wolf_detection/human_detector_output/pred_272.png\n"
     ]
    },
    {
     "name": "stderr",
     "output_type": "stream",
     "text": [
      " 39%|███▉      | 220/559 [00:49<01:52,  3.01it/s]"
     ]
    },
    {
     "name": "stdout",
     "output_type": "stream",
     "text": [
      "/Users/alex_wheelis/Documents/programming/red_wolf_detection/human_detector_output/pred_514.png\n",
      "/Users/alex_wheelis/Documents/programming/red_wolf_detection/human_detector_output/pred_528.png\n",
      "/Users/alex_wheelis/Documents/programming/red_wolf_detection/human_detector_output/pred_299.png\n",
      "/Users/alex_wheelis/Documents/programming/red_wolf_detection/human_detector_output/pred_298.png\n",
      "/Users/alex_wheelis/Documents/programming/red_wolf_detection/human_detector_output/pred_529.png\n",
      "/Users/alex_wheelis/Documents/programming/red_wolf_detection/human_detector_output/pred_273.png\n"
     ]
    },
    {
     "name": "stderr",
     "output_type": "stream",
     "text": [
      " 40%|████      | 225/559 [00:51<01:53,  2.94it/s]"
     ]
    },
    {
     "name": "stdout",
     "output_type": "stream",
     "text": [
      "/Users/alex_wheelis/Documents/programming/red_wolf_detection/human_detector_output/pred_515.png\n"
     ]
    },
    {
     "name": "stderr",
     "output_type": "stream",
     "text": [
      " 41%|████      | 227/559 [00:51<01:42,  3.25it/s]"
     ]
    },
    {
     "name": "stdout",
     "output_type": "stream",
     "text": [
      "/Users/alex_wheelis/Documents/programming/red_wolf_detection/human_detector_output/pred_501.png\n",
      "/Users/alex_wheelis/Documents/programming/red_wolf_detection/human_detector_output/pred_267.png\n",
      "/Users/alex_wheelis/Documents/programming/red_wolf_detection/human_detector_output/pred_10.png\n",
      "/Users/alex_wheelis/Documents/programming/red_wolf_detection/human_detector_output/pred_38.png\n"
     ]
    },
    {
     "name": "stderr",
     "output_type": "stream",
     "text": [
      " 42%|████▏     | 236/559 [00:53<01:13,  4.39it/s]"
     ]
    },
    {
     "name": "stdout",
     "output_type": "stream",
     "text": [
      "/Users/alex_wheelis/Documents/programming/red_wolf_detection/human_detector_output/pred_139.png\n",
      "/Users/alex_wheelis/Documents/programming/red_wolf_detection/human_detector_output/pred_105.png\n",
      "/Users/alex_wheelis/Documents/programming/red_wolf_detection/human_detector_output/pred_111.png\n",
      "/Users/alex_wheelis/Documents/programming/red_wolf_detection/human_detector_output/pred_449.png\n",
      "/Users/alex_wheelis/Documents/programming/red_wolf_detection/human_detector_output/pred_307.png\n",
      "/Users/alex_wheelis/Documents/programming/red_wolf_detection/human_detector_output/pred_461.png\n",
      "/Users/alex_wheelis/Documents/programming/red_wolf_detection/human_detector_output/pred_475.png\n",
      "/Users/alex_wheelis/Documents/programming/red_wolf_detection/human_detector_output/pred_313.png\n",
      "/Users/alex_wheelis/Documents/programming/red_wolf_detection/human_detector_output/pred_478.png\n",
      "/Users/alex_wheelis/Documents/programming/red_wolf_detection/human_detector_output/pred_336.png\n",
      "/Users/alex_wheelis/Documents/programming/red_wolf_detection/human_detector_output/pred_450.png\n",
      "/Users/alex_wheelis/Documents/programming/red_wolf_detection/human_detector_output/pred_444.png\n",
      "/Users/alex_wheelis/Documents/programming/red_wolf_detection/human_detector_output/pred_322.png\n"
     ]
    },
    {
     "name": "stderr",
     "output_type": "stream",
     "text": [
      " 43%|████▎     | 243/559 [00:53<00:49,  6.41it/s]"
     ]
    },
    {
     "name": "stdout",
     "output_type": "stream",
     "text": [
      "/Users/alex_wheelis/Documents/programming/red_wolf_detection/human_detector_output/pred_493.png\n"
     ]
    },
    {
     "name": "stderr",
     "output_type": "stream",
     "text": [
      " 44%|████▍     | 245/559 [00:54<00:49,  6.39it/s]"
     ]
    },
    {
     "name": "stdout",
     "output_type": "stream",
     "text": [
      "/Users/alex_wheelis/Documents/programming/red_wolf_detection/human_detector_output/pred_487.png\n",
      "/Users/alex_wheelis/Documents/programming/red_wolf_detection/human_detector_output/pred_108.png\n",
      "/Users/alex_wheelis/Documents/programming/red_wolf_detection/human_detector_output/pred_134.png\n",
      "/Users/alex_wheelis/Documents/programming/red_wolf_detection/human_detector_output/pred_120.png\n"
     ]
    },
    {
     "name": "stderr",
     "output_type": "stream",
     "text": [
      " 45%|████▍     | 250/559 [00:54<00:35,  8.61it/s]"
     ]
    },
    {
     "name": "stdout",
     "output_type": "stream",
     "text": [
      "/Users/alex_wheelis/Documents/programming/red_wolf_detection/human_detector_output/pred_35.png\n",
      "/Users/alex_wheelis/Documents/programming/red_wolf_detection/human_detector_output/pred_21.png\n",
      "/Users/alex_wheelis/Documents/programming/red_wolf_detection/human_detector_output/pred_518.png\n",
      "/Users/alex_wheelis/Documents/programming/red_wolf_detection/human_detector_output/pred_242.png\n",
      "/Users/alex_wheelis/Documents/programming/red_wolf_detection/human_detector_output/pred_524.png\n"
     ]
    },
    {
     "name": "stderr",
     "output_type": "stream",
     "text": [
      " 47%|████▋     | 262/559 [00:54<00:14, 20.12it/s]"
     ]
    },
    {
     "name": "stdout",
     "output_type": "stream",
     "text": [
      "/Users/alex_wheelis/Documents/programming/red_wolf_detection/human_detector_output/pred_530.png\n",
      "/Users/alex_wheelis/Documents/programming/red_wolf_detection/human_detector_output/pred_256.png\n",
      "/Users/alex_wheelis/Documents/programming/red_wolf_detection/human_detector_output/pred_281.png\n",
      "/Users/alex_wheelis/Documents/programming/red_wolf_detection/human_detector_output/pred_295.png\n",
      "/Users/alex_wheelis/Documents/programming/red_wolf_detection/human_detector_output/pred_294.png\n",
      "/Users/alex_wheelis/Documents/programming/red_wolf_detection/human_detector_output/pred_280.png\n",
      "/Users/alex_wheelis/Documents/programming/red_wolf_detection/human_detector_output/pred_531.png\n",
      "/Users/alex_wheelis/Documents/programming/red_wolf_detection/human_detector_output/pred_257.png\n",
      "/Users/alex_wheelis/Documents/programming/red_wolf_detection/human_detector_output/pred_243.png\n",
      "/Users/alex_wheelis/Documents/programming/red_wolf_detection/human_detector_output/pred_525.png\n",
      "/Users/alex_wheelis/Documents/programming/red_wolf_detection/human_detector_output/pred_519.png\n"
     ]
    },
    {
     "name": "stderr",
     "output_type": "stream",
     "text": [
      " 48%|████▊     | 266/559 [00:54<00:13, 21.01it/s]"
     ]
    },
    {
     "name": "stdout",
     "output_type": "stream",
     "text": [
      "/Users/alex_wheelis/Documents/programming/red_wolf_detection/human_detector_output/pred_20.png\n",
      "/Users/alex_wheelis/Documents/programming/red_wolf_detection/human_detector_output/pred_34.png\n",
      "/Users/alex_wheelis/Documents/programming/red_wolf_detection/human_detector_output/pred_121.png\n",
      "/Users/alex_wheelis/Documents/programming/red_wolf_detection/human_detector_output/pred_135.png\n",
      "/Users/alex_wheelis/Documents/programming/red_wolf_detection/human_detector_output/pred_109.png\n",
      "/Users/alex_wheelis/Documents/programming/red_wolf_detection/human_detector_output/pred_486.png\n"
     ]
    },
    {
     "name": "stderr",
     "output_type": "stream",
     "text": [
      " 50%|████▉     | 279/559 [00:55<00:13, 20.38it/s]"
     ]
    },
    {
     "name": "stdout",
     "output_type": "stream",
     "text": [
      "/Users/alex_wheelis/Documents/programming/red_wolf_detection/human_detector_output/pred_492.png\n",
      "/Users/alex_wheelis/Documents/programming/red_wolf_detection/human_detector_output/pred_445.png\n",
      "/Users/alex_wheelis/Documents/programming/red_wolf_detection/human_detector_output/pred_323.png\n",
      "/Users/alex_wheelis/Documents/programming/red_wolf_detection/human_detector_output/pred_337.png\n",
      "/Users/alex_wheelis/Documents/programming/red_wolf_detection/human_detector_output/pred_451.png\n",
      "/Users/alex_wheelis/Documents/programming/red_wolf_detection/human_detector_output/pred_479.png\n",
      "/Users/alex_wheelis/Documents/programming/red_wolf_detection/human_detector_output/pred_309.png\n",
      "/Users/alex_wheelis/Documents/programming/red_wolf_detection/human_detector_output/pred_321.png\n",
      "/Users/alex_wheelis/Documents/programming/red_wolf_detection/human_detector_output/pred_447.png\n",
      "/Users/alex_wheelis/Documents/programming/red_wolf_detection/human_detector_output/pred_453.png\n",
      "/Users/alex_wheelis/Documents/programming/red_wolf_detection/human_detector_output/pred_335.png\n",
      "/Users/alex_wheelis/Documents/programming/red_wolf_detection/human_detector_output/pred_484.png\n"
     ]
    },
    {
     "name": "stderr",
     "output_type": "stream",
     "text": [
      " 51%|█████     | 283/559 [00:56<00:17, 15.33it/s]"
     ]
    },
    {
     "name": "stdout",
     "output_type": "stream",
     "text": [
      "/Users/alex_wheelis/Documents/programming/red_wolf_detection/human_detector_output/pred_490.png\n",
      "/Users/alex_wheelis/Documents/programming/red_wolf_detection/human_detector_output/pred_123.png\n"
     ]
    },
    {
     "name": "stderr",
     "output_type": "stream",
     "text": [
      " 51%|█████▏    | 287/559 [00:57<00:43,  6.29it/s]"
     ]
    },
    {
     "name": "stdout",
     "output_type": "stream",
     "text": [
      "/Users/alex_wheelis/Documents/programming/red_wolf_detection/human_detector_output/pred_137.png\n",
      "/Users/alex_wheelis/Documents/programming/red_wolf_detection/human_detector_output/pred_22.png\n",
      "/Users/alex_wheelis/Documents/programming/red_wolf_detection/human_detector_output/pred_36.png\n",
      "/Users/alex_wheelis/Documents/programming/red_wolf_detection/human_detector_output/pred_269.png\n",
      "/Users/alex_wheelis/Documents/programming/red_wolf_detection/human_detector_output/pred_255.png\n",
      "/Users/alex_wheelis/Documents/programming/red_wolf_detection/human_detector_output/pred_533.png\n"
     ]
    },
    {
     "name": "stderr",
     "output_type": "stream",
     "text": [
      " 53%|█████▎    | 297/559 [00:58<00:22, 11.77it/s]"
     ]
    },
    {
     "name": "stdout",
     "output_type": "stream",
     "text": [
      "/Users/alex_wheelis/Documents/programming/red_wolf_detection/human_detector_output/pred_527.png\n",
      "/Users/alex_wheelis/Documents/programming/red_wolf_detection/human_detector_output/pred_241.png\n",
      "/Users/alex_wheelis/Documents/programming/red_wolf_detection/human_detector_output/pred_296.png\n",
      "/Users/alex_wheelis/Documents/programming/red_wolf_detection/human_detector_output/pred_282.png\n",
      "/Users/alex_wheelis/Documents/programming/red_wolf_detection/human_detector_output/pred_283.png\n",
      "/Users/alex_wheelis/Documents/programming/red_wolf_detection/human_detector_output/pred_297.png\n",
      "/Users/alex_wheelis/Documents/programming/red_wolf_detection/human_detector_output/pred_526.png\n",
      "/Users/alex_wheelis/Documents/programming/red_wolf_detection/human_detector_output/pred_240.png\n",
      "/Users/alex_wheelis/Documents/programming/red_wolf_detection/human_detector_output/pred_254.png\n",
      "/Users/alex_wheelis/Documents/programming/red_wolf_detection/human_detector_output/pred_532.png\n",
      "/Users/alex_wheelis/Documents/programming/red_wolf_detection/human_detector_output/pred_268.png\n"
     ]
    },
    {
     "name": "stderr",
     "output_type": "stream",
     "text": [
      " 54%|█████▍    | 301/559 [00:58<00:18, 14.00it/s]"
     ]
    },
    {
     "name": "stdout",
     "output_type": "stream",
     "text": [
      "/Users/alex_wheelis/Documents/programming/red_wolf_detection/human_detector_output/pred_37.png\n",
      "/Users/alex_wheelis/Documents/programming/red_wolf_detection/human_detector_output/pred_23.png\n",
      "/Users/alex_wheelis/Documents/programming/red_wolf_detection/human_detector_output/pred_136.png\n",
      "/Users/alex_wheelis/Documents/programming/red_wolf_detection/human_detector_output/pred_122.png\n"
     ]
    },
    {
     "name": "stderr",
     "output_type": "stream",
     "text": [
      " 55%|█████▌    | 308/559 [01:00<00:41,  6.01it/s]"
     ]
    },
    {
     "name": "stdout",
     "output_type": "stream",
     "text": [
      "/Users/alex_wheelis/Documents/programming/red_wolf_detection/human_detector_output/pred_491.png\n",
      "/Users/alex_wheelis/Documents/programming/red_wolf_detection/human_detector_output/pred_485.png\n",
      "/Users/alex_wheelis/Documents/programming/red_wolf_detection/human_detector_output/pred_452.png\n",
      "/Users/alex_wheelis/Documents/programming/red_wolf_detection/human_detector_output/pred_334.png\n",
      "/Users/alex_wheelis/Documents/programming/red_wolf_detection/human_detector_output/pred_320.png\n",
      "/Users/alex_wheelis/Documents/programming/red_wolf_detection/human_detector_output/pred_446.png\n"
     ]
    },
    {
     "name": "stderr",
     "output_type": "stream",
     "text": [
      " 56%|█████▌    | 314/559 [01:00<00:26,  9.10it/s]"
     ]
    },
    {
     "name": "stdout",
     "output_type": "stream",
     "text": [
      "/Users/alex_wheelis/Documents/programming/red_wolf_detection/human_detector_output/pred_308.png\n",
      "/Users/alex_wheelis/Documents/programming/red_wolf_detection/human_detector_output/pred_442.png\n",
      "/Users/alex_wheelis/Documents/programming/red_wolf_detection/human_detector_output/pred_324.png\n",
      "/Users/alex_wheelis/Documents/programming/red_wolf_detection/human_detector_output/pred_330.png\n",
      "/Users/alex_wheelis/Documents/programming/red_wolf_detection/human_detector_output/pred_456.png\n",
      "/Users/alex_wheelis/Documents/programming/red_wolf_detection/human_detector_output/pred_318.png\n",
      "/Users/alex_wheelis/Documents/programming/red_wolf_detection/human_detector_output/pred_481.png\n"
     ]
    },
    {
     "name": "stderr",
     "output_type": "stream",
     "text": [
      " 57%|█████▋    | 321/559 [01:02<00:40,  5.86it/s]"
     ]
    },
    {
     "name": "stdout",
     "output_type": "stream",
     "text": [
      "/Users/alex_wheelis/Documents/programming/red_wolf_detection/human_detector_output/pred_495.png\n",
      "/Users/alex_wheelis/Documents/programming/red_wolf_detection/human_detector_output/pred_126.png\n",
      "/Users/alex_wheelis/Documents/programming/red_wolf_detection/human_detector_output/pred_132.png\n",
      "/Users/alex_wheelis/Documents/programming/red_wolf_detection/human_detector_output/pred_27.png\n",
      "/Users/alex_wheelis/Documents/programming/red_wolf_detection/human_detector_output/pred_33.png\n"
     ]
    },
    {
     "name": "stderr",
     "output_type": "stream",
     "text": [
      " 58%|█████▊    | 326/559 [01:02<00:27,  8.33it/s]"
     ]
    },
    {
     "name": "stdout",
     "output_type": "stream",
     "text": [
      "/Users/alex_wheelis/Documents/programming/red_wolf_detection/human_detector_output/pred_536.png\n",
      "/Users/alex_wheelis/Documents/programming/red_wolf_detection/human_detector_output/pred_250.png\n",
      "/Users/alex_wheelis/Documents/programming/red_wolf_detection/human_detector_output/pred_244.png\n",
      "/Users/alex_wheelis/Documents/programming/red_wolf_detection/human_detector_output/pred_522.png\n",
      "/Users/alex_wheelis/Documents/programming/red_wolf_detection/human_detector_output/pred_278.png\n",
      "/Users/alex_wheelis/Documents/programming/red_wolf_detection/human_detector_output/pred_293.png\n",
      "/Users/alex_wheelis/Documents/programming/red_wolf_detection/human_detector_output/pred_287.png\n",
      "/Users/alex_wheelis/Documents/programming/red_wolf_detection/human_detector_output/pred_286.png\n",
      "/Users/alex_wheelis/Documents/programming/red_wolf_detection/human_detector_output/pred_292.png\n",
      "/Users/alex_wheelis/Documents/programming/red_wolf_detection/human_detector_output/pred_279.png\n",
      "/Users/alex_wheelis/Documents/programming/red_wolf_detection/human_detector_output/pred_245.png\n"
     ]
    },
    {
     "name": "stderr",
     "output_type": "stream",
     "text": [
      " 60%|██████    | 338/559 [01:03<00:14, 15.63it/s]"
     ]
    },
    {
     "name": "stdout",
     "output_type": "stream",
     "text": [
      "/Users/alex_wheelis/Documents/programming/red_wolf_detection/human_detector_output/pred_523.png\n",
      "/Users/alex_wheelis/Documents/programming/red_wolf_detection/human_detector_output/pred_537.png\n",
      "/Users/alex_wheelis/Documents/programming/red_wolf_detection/human_detector_output/pred_251.png\n",
      "/Users/alex_wheelis/Documents/programming/red_wolf_detection/human_detector_output/pred_32.png\n",
      "/Users/alex_wheelis/Documents/programming/red_wolf_detection/human_detector_output/pred_26.png\n",
      "/Users/alex_wheelis/Documents/programming/red_wolf_detection/human_detector_output/pred_133.png\n",
      "/Users/alex_wheelis/Documents/programming/red_wolf_detection/human_detector_output/pred_127.png\n"
     ]
    },
    {
     "name": "stderr",
     "output_type": "stream",
     "text": [
      " 63%|██████▎   | 351/559 [01:05<00:20, 10.23it/s]"
     ]
    },
    {
     "name": "stdout",
     "output_type": "stream",
     "text": [
      "/Users/alex_wheelis/Documents/programming/red_wolf_detection/human_detector_output/pred_494.png\n",
      "/Users/alex_wheelis/Documents/programming/red_wolf_detection/human_detector_output/pred_480.png\n",
      "/Users/alex_wheelis/Documents/programming/red_wolf_detection/human_detector_output/pred_319.png\n",
      "/Users/alex_wheelis/Documents/programming/red_wolf_detection/human_detector_output/pred_331.png\n",
      "/Users/alex_wheelis/Documents/programming/red_wolf_detection/human_detector_output/pred_457.png\n",
      "/Users/alex_wheelis/Documents/programming/red_wolf_detection/human_detector_output/pred_443.png\n",
      "/Users/alex_wheelis/Documents/programming/red_wolf_detection/human_detector_output/pred_325.png\n",
      "/Users/alex_wheelis/Documents/programming/red_wolf_detection/human_detector_output/pred_455.png\n",
      "/Users/alex_wheelis/Documents/programming/red_wolf_detection/human_detector_output/pred_333.png\n",
      "/Users/alex_wheelis/Documents/programming/red_wolf_detection/human_detector_output/pred_327.png\n",
      "/Users/alex_wheelis/Documents/programming/red_wolf_detection/human_detector_output/pred_441.png\n",
      "/Users/alex_wheelis/Documents/programming/red_wolf_detection/human_detector_output/pred_469.png\n"
     ]
    },
    {
     "name": "stderr",
     "output_type": "stream",
     "text": [
      " 64%|██████▎   | 355/559 [01:05<00:20,  9.82it/s]"
     ]
    },
    {
     "name": "stdout",
     "output_type": "stream",
     "text": [
      "/Users/alex_wheelis/Documents/programming/red_wolf_detection/human_detector_output/pred_496.png\n",
      "/Users/alex_wheelis/Documents/programming/red_wolf_detection/human_detector_output/pred_482.png\n",
      "/Users/alex_wheelis/Documents/programming/red_wolf_detection/human_detector_output/pred_131.png\n",
      "/Users/alex_wheelis/Documents/programming/red_wolf_detection/human_detector_output/pred_125.png\n"
     ]
    },
    {
     "name": "stderr",
     "output_type": "stream",
     "text": [
      " 64%|██████▍   | 359/559 [01:05<00:17, 11.38it/s]"
     ]
    },
    {
     "name": "stdout",
     "output_type": "stream",
     "text": [
      "/Users/alex_wheelis/Documents/programming/red_wolf_detection/human_detector_output/pred_119.png\n",
      "/Users/alex_wheelis/Documents/programming/red_wolf_detection/human_detector_output/pred_18.png\n",
      "/Users/alex_wheelis/Documents/programming/red_wolf_detection/human_detector_output/pred_30.png\n",
      "/Users/alex_wheelis/Documents/programming/red_wolf_detection/human_detector_output/pred_24.png\n",
      "/Users/alex_wheelis/Documents/programming/red_wolf_detection/human_detector_output/pred_521.png\n",
      "/Users/alex_wheelis/Documents/programming/red_wolf_detection/human_detector_output/pred_247.png\n"
     ]
    },
    {
     "name": "stderr",
     "output_type": "stream",
     "text": [
      " 65%|██████▍   | 363/559 [01:05<00:14, 13.20it/s]"
     ]
    },
    {
     "name": "stdout",
     "output_type": "stream",
     "text": [
      "/Users/alex_wheelis/Documents/programming/red_wolf_detection/human_detector_output/pred_253.png\n",
      "/Users/alex_wheelis/Documents/programming/red_wolf_detection/human_detector_output/pred_535.png\n"
     ]
    },
    {
     "name": "stderr",
     "output_type": "stream",
     "text": [
      " 67%|██████▋   | 372/559 [01:06<00:12, 14.86it/s]"
     ]
    },
    {
     "name": "stdout",
     "output_type": "stream",
     "text": [
      "/Users/alex_wheelis/Documents/programming/red_wolf_detection/human_detector_output/pred_509.png\n",
      "/Users/alex_wheelis/Documents/programming/red_wolf_detection/human_detector_output/pred_284.png\n",
      "/Users/alex_wheelis/Documents/programming/red_wolf_detection/human_detector_output/pred_290.png\n",
      "/Users/alex_wheelis/Documents/programming/red_wolf_detection/human_detector_output/pred_291.png\n",
      "/Users/alex_wheelis/Documents/programming/red_wolf_detection/human_detector_output/pred_285.png\n",
      "/Users/alex_wheelis/Documents/programming/red_wolf_detection/human_detector_output/pred_508.png\n",
      "/Users/alex_wheelis/Documents/programming/red_wolf_detection/human_detector_output/pred_252.png\n",
      "/Users/alex_wheelis/Documents/programming/red_wolf_detection/human_detector_output/pred_534.png\n",
      "/Users/alex_wheelis/Documents/programming/red_wolf_detection/human_detector_output/pred_520.png\n",
      "/Users/alex_wheelis/Documents/programming/red_wolf_detection/human_detector_output/pred_246.png\n"
     ]
    },
    {
     "name": "stderr",
     "output_type": "stream",
     "text": [
      " 67%|██████▋   | 376/559 [01:06<00:10, 17.35it/s]"
     ]
    },
    {
     "name": "stdout",
     "output_type": "stream",
     "text": [
      "/Users/alex_wheelis/Documents/programming/red_wolf_detection/human_detector_output/pred_25.png\n",
      "/Users/alex_wheelis/Documents/programming/red_wolf_detection/human_detector_output/pred_31.png\n",
      "/Users/alex_wheelis/Documents/programming/red_wolf_detection/human_detector_output/pred_19.png\n",
      "/Users/alex_wheelis/Documents/programming/red_wolf_detection/human_detector_output/pred_118.png\n"
     ]
    },
    {
     "name": "stderr",
     "output_type": "stream",
     "text": [
      " 68%|██████▊   | 382/559 [01:07<00:09, 18.55it/s]"
     ]
    },
    {
     "name": "stdout",
     "output_type": "stream",
     "text": [
      "/Users/alex_wheelis/Documents/programming/red_wolf_detection/human_detector_output/pred_124.png\n",
      "/Users/alex_wheelis/Documents/programming/red_wolf_detection/human_detector_output/pred_130.png\n",
      "/Users/alex_wheelis/Documents/programming/red_wolf_detection/human_detector_output/pred_483.png\n",
      "/Users/alex_wheelis/Documents/programming/red_wolf_detection/human_detector_output/pred_497.png\n",
      "/Users/alex_wheelis/Documents/programming/red_wolf_detection/human_detector_output/pred_468.png\n",
      "/Users/alex_wheelis/Documents/programming/red_wolf_detection/human_detector_output/pred_326.png\n",
      "/Users/alex_wheelis/Documents/programming/red_wolf_detection/human_detector_output/pred_440.png\n",
      "/Users/alex_wheelis/Documents/programming/red_wolf_detection/human_detector_output/pred_454.png\n",
      "/Users/alex_wheelis/Documents/programming/red_wolf_detection/human_detector_output/pred_332.png\n"
     ]
    },
    {
     "name": "stderr",
     "output_type": "stream",
     "text": [
      " 71%|███████   | 396/559 [01:07<00:05, 31.53it/s]"
     ]
    },
    {
     "name": "stdout",
     "output_type": "stream",
     "text": [
      "/Users/alex_wheelis/Documents/programming/red_wolf_detection/human_detector_output/pred_369.png\n",
      "/Users/alex_wheelis/Documents/programming/red_wolf_detection/human_detector_output/pred_433.png\n",
      "/Users/alex_wheelis/Documents/programming/red_wolf_detection/human_detector_output/pred_355.png\n",
      "/Users/alex_wheelis/Documents/programming/red_wolf_detection/human_detector_output/pred_341.png\n",
      "/Users/alex_wheelis/Documents/programming/red_wolf_detection/human_detector_output/pred_427.png\n",
      "/Users/alex_wheelis/Documents/programming/red_wolf_detection/human_detector_output/pred_396.png\n",
      "/Users/alex_wheelis/Documents/programming/red_wolf_detection/human_detector_output/pred_382.png\n",
      "/Users/alex_wheelis/Documents/programming/red_wolf_detection/human_detector_output/pred_95.png\n",
      "/Users/alex_wheelis/Documents/programming/red_wolf_detection/human_detector_output/pred_81.png\n",
      "/Users/alex_wheelis/Documents/programming/red_wolf_detection/human_detector_output/pred_157.png\n"
     ]
    },
    {
     "name": "stderr",
     "output_type": "stream",
     "text": [
      " 72%|███████▏  | 401/559 [01:10<00:36,  4.28it/s]"
     ]
    },
    {
     "name": "stdout",
     "output_type": "stream",
     "text": [
      "/Users/alex_wheelis/Documents/programming/red_wolf_detection/human_detector_output/pred_143.png\n",
      "/Users/alex_wheelis/Documents/programming/red_wolf_detection/human_detector_output/pred_4.png\n",
      "/Users/alex_wheelis/Documents/programming/red_wolf_detection/human_detector_output/pred_56.png\n",
      "/Users/alex_wheelis/Documents/programming/red_wolf_detection/human_detector_output/pred_42.png\n",
      "/Users/alex_wheelis/Documents/programming/red_wolf_detection/human_detector_output/pred_194.png\n",
      "/Users/alex_wheelis/Documents/programming/red_wolf_detection/human_detector_output/pred_180.png\n",
      "/Users/alex_wheelis/Documents/programming/red_wolf_detection/human_detector_output/pred_209.png\n",
      "/Users/alex_wheelis/Documents/programming/red_wolf_detection/human_detector_output/pred_547.png\n",
      "/Users/alex_wheelis/Documents/programming/red_wolf_detection/human_detector_output/pred_221.png\n",
      "/Users/alex_wheelis/Documents/programming/red_wolf_detection/human_detector_output/pred_235.png\n"
     ]
    },
    {
     "name": "stderr",
     "output_type": "stream",
     "text": [
      " 74%|███████▍  | 414/559 [01:11<00:16,  8.94it/s]"
     ]
    },
    {
     "name": "stdout",
     "output_type": "stream",
     "text": [
      "/Users/alex_wheelis/Documents/programming/red_wolf_detection/human_detector_output/pred_553.png\n",
      "/Users/alex_wheelis/Documents/programming/red_wolf_detection/human_detector_output/pred_234.png\n",
      "/Users/alex_wheelis/Documents/programming/red_wolf_detection/human_detector_output/pred_552.png\n",
      "/Users/alex_wheelis/Documents/programming/red_wolf_detection/human_detector_output/pred_546.png\n",
      "/Users/alex_wheelis/Documents/programming/red_wolf_detection/human_detector_output/pred_220.png\n",
      "/Users/alex_wheelis/Documents/programming/red_wolf_detection/human_detector_output/pred_208.png\n",
      "/Users/alex_wheelis/Documents/programming/red_wolf_detection/human_detector_output/pred_181.png\n",
      "/Users/alex_wheelis/Documents/programming/red_wolf_detection/human_detector_output/pred_195.png\n",
      "/Users/alex_wheelis/Documents/programming/red_wolf_detection/human_detector_output/pred_43.png\n",
      "/Users/alex_wheelis/Documents/programming/red_wolf_detection/human_detector_output/pred_5.png\n"
     ]
    },
    {
     "name": "stderr",
     "output_type": "stream",
     "text": [
      " 75%|███████▍  | 419/559 [01:11<00:12, 11.15it/s]"
     ]
    },
    {
     "name": "stdout",
     "output_type": "stream",
     "text": [
      "/Users/alex_wheelis/Documents/programming/red_wolf_detection/human_detector_output/pred_57.png\n",
      "/Users/alex_wheelis/Documents/programming/red_wolf_detection/human_detector_output/pred_142.png\n"
     ]
    },
    {
     "name": "stderr",
     "output_type": "stream",
     "text": [
      " 76%|███████▌  | 424/559 [01:13<00:22,  6.00it/s]"
     ]
    },
    {
     "name": "stdout",
     "output_type": "stream",
     "text": [
      "/Users/alex_wheelis/Documents/programming/red_wolf_detection/human_detector_output/pred_156.png\n",
      "/Users/alex_wheelis/Documents/programming/red_wolf_detection/human_detector_output/pred_80.png\n",
      "/Users/alex_wheelis/Documents/programming/red_wolf_detection/human_detector_output/pred_94.png\n",
      "/Users/alex_wheelis/Documents/programming/red_wolf_detection/human_detector_output/pred_383.png\n",
      "/Users/alex_wheelis/Documents/programming/red_wolf_detection/human_detector_output/pred_397.png\n",
      "/Users/alex_wheelis/Documents/programming/red_wolf_detection/human_detector_output/pred_340.png\n",
      "/Users/alex_wheelis/Documents/programming/red_wolf_detection/human_detector_output/pred_426.png\n",
      "/Users/alex_wheelis/Documents/programming/red_wolf_detection/human_detector_output/pred_432.png\n",
      "/Users/alex_wheelis/Documents/programming/red_wolf_detection/human_detector_output/pred_354.png\n",
      "/Users/alex_wheelis/Documents/programming/red_wolf_detection/human_detector_output/pred_368.png\n",
      "/Users/alex_wheelis/Documents/programming/red_wolf_detection/human_detector_output/pred_418.png\n",
      "/Users/alex_wheelis/Documents/programming/red_wolf_detection/human_detector_output/pred_424.png\n"
     ]
    },
    {
     "name": "stderr",
     "output_type": "stream",
     "text": [
      " 78%|███████▊  | 438/559 [01:13<00:10, 11.79it/s]"
     ]
    },
    {
     "name": "stdout",
     "output_type": "stream",
     "text": [
      "/Users/alex_wheelis/Documents/programming/red_wolf_detection/human_detector_output/pred_342.png\n",
      "/Users/alex_wheelis/Documents/programming/red_wolf_detection/human_detector_output/pred_356.png\n",
      "/Users/alex_wheelis/Documents/programming/red_wolf_detection/human_detector_output/pred_430.png\n",
      "/Users/alex_wheelis/Documents/programming/red_wolf_detection/human_detector_output/pred_381.png\n",
      "/Users/alex_wheelis/Documents/programming/red_wolf_detection/human_detector_output/pred_395.png\n",
      "/Users/alex_wheelis/Documents/programming/red_wolf_detection/human_detector_output/pred_82.png\n",
      "/Users/alex_wheelis/Documents/programming/red_wolf_detection/human_detector_output/pred_96.png\n",
      "/Users/alex_wheelis/Documents/programming/red_wolf_detection/human_detector_output/pred_168.png\n",
      "/Users/alex_wheelis/Documents/programming/red_wolf_detection/human_detector_output/pred_140.png\n"
     ]
    },
    {
     "name": "stderr",
     "output_type": "stream",
     "text": [
      " 79%|███████▉  | 443/559 [01:17<00:30,  3.75it/s]"
     ]
    },
    {
     "name": "stdout",
     "output_type": "stream",
     "text": [
      "/Users/alex_wheelis/Documents/programming/red_wolf_detection/human_detector_output/pred_154.png\n",
      "/Users/alex_wheelis/Documents/programming/red_wolf_detection/human_detector_output/pred_41.png\n",
      "/Users/alex_wheelis/Documents/programming/red_wolf_detection/human_detector_output/pred_55.png\n",
      "/Users/alex_wheelis/Documents/programming/red_wolf_detection/human_detector_output/pred_7.png\n",
      "/Users/alex_wheelis/Documents/programming/red_wolf_detection/human_detector_output/pred_183.png\n",
      "/Users/alex_wheelis/Documents/programming/red_wolf_detection/human_detector_output/pred_69.png\n"
     ]
    },
    {
     "name": "stderr",
     "output_type": "stream",
     "text": [
      " 81%|████████  | 451/559 [01:17<00:18,  5.90it/s]"
     ]
    },
    {
     "name": "stdout",
     "output_type": "stream",
     "text": [
      "/Users/alex_wheelis/Documents/programming/red_wolf_detection/human_detector_output/pred_197.png\n",
      "/Users/alex_wheelis/Documents/programming/red_wolf_detection/human_detector_output/pred_550.png\n",
      "/Users/alex_wheelis/Documents/programming/red_wolf_detection/human_detector_output/pred_236.png\n",
      "/Users/alex_wheelis/Documents/programming/red_wolf_detection/human_detector_output/pred_222.png\n",
      "/Users/alex_wheelis/Documents/programming/red_wolf_detection/human_detector_output/pred_544.png\n",
      "/Users/alex_wheelis/Documents/programming/red_wolf_detection/human_detector_output/pred_223.png\n"
     ]
    },
    {
     "name": "stderr",
     "output_type": "stream",
     "text": [
      " 82%|████████▏ | 459/559 [01:17<00:10,  9.60it/s]"
     ]
    },
    {
     "name": "stdout",
     "output_type": "stream",
     "text": [
      "/Users/alex_wheelis/Documents/programming/red_wolf_detection/human_detector_output/pred_545.png\n",
      "/Users/alex_wheelis/Documents/programming/red_wolf_detection/human_detector_output/pred_551.png\n",
      "/Users/alex_wheelis/Documents/programming/red_wolf_detection/human_detector_output/pred_237.png\n",
      "/Users/alex_wheelis/Documents/programming/red_wolf_detection/human_detector_output/pred_68.png\n",
      "/Users/alex_wheelis/Documents/programming/red_wolf_detection/human_detector_output/pred_196.png\n",
      "/Users/alex_wheelis/Documents/programming/red_wolf_detection/human_detector_output/pred_182.png\n",
      "/Users/alex_wheelis/Documents/programming/red_wolf_detection/human_detector_output/pred_54.png\n",
      "/Users/alex_wheelis/Documents/programming/red_wolf_detection/human_detector_output/pred_6.png\n",
      "/Users/alex_wheelis/Documents/programming/red_wolf_detection/human_detector_output/pred_40.png\n",
      "/Users/alex_wheelis/Documents/programming/red_wolf_detection/human_detector_output/pred_155.png\n"
     ]
    },
    {
     "name": "stderr",
     "output_type": "stream",
     "text": [
      " 83%|████████▎ | 463/559 [01:19<00:20,  4.60it/s]"
     ]
    },
    {
     "name": "stdout",
     "output_type": "stream",
     "text": [
      "/Users/alex_wheelis/Documents/programming/red_wolf_detection/human_detector_output/pred_141.png\n",
      "/Users/alex_wheelis/Documents/programming/red_wolf_detection/human_detector_output/pred_97.png\n"
     ]
    },
    {
     "name": "stderr",
     "output_type": "stream",
     "text": [
      " 85%|████████▌ | 476/559 [01:20<00:08,  9.37it/s]"
     ]
    },
    {
     "name": "stdout",
     "output_type": "stream",
     "text": [
      "/Users/alex_wheelis/Documents/programming/red_wolf_detection/human_detector_output/pred_169.png\n",
      "/Users/alex_wheelis/Documents/programming/red_wolf_detection/human_detector_output/pred_83.png\n",
      "/Users/alex_wheelis/Documents/programming/red_wolf_detection/human_detector_output/pred_394.png\n",
      "/Users/alex_wheelis/Documents/programming/red_wolf_detection/human_detector_output/pred_380.png\n",
      "/Users/alex_wheelis/Documents/programming/red_wolf_detection/human_detector_output/pred_357.png\n",
      "/Users/alex_wheelis/Documents/programming/red_wolf_detection/human_detector_output/pred_431.png\n",
      "/Users/alex_wheelis/Documents/programming/red_wolf_detection/human_detector_output/pred_425.png\n",
      "/Users/alex_wheelis/Documents/programming/red_wolf_detection/human_detector_output/pred_343.png\n",
      "/Users/alex_wheelis/Documents/programming/red_wolf_detection/human_detector_output/pred_419.png\n",
      "/Users/alex_wheelis/Documents/programming/red_wolf_detection/human_detector_output/pred_347.png\n",
      "/Users/alex_wheelis/Documents/programming/red_wolf_detection/human_detector_output/pred_421.png\n",
      "/Users/alex_wheelis/Documents/programming/red_wolf_detection/human_detector_output/pred_435.png\n",
      "/Users/alex_wheelis/Documents/programming/red_wolf_detection/human_detector_output/pred_353.png\n",
      "/Users/alex_wheelis/Documents/programming/red_wolf_detection/human_detector_output/pred_409.png\n",
      "/Users/alex_wheelis/Documents/programming/red_wolf_detection/human_detector_output/pred_384.png\n",
      "/Users/alex_wheelis/Documents/programming/red_wolf_detection/human_detector_output/pred_390.png\n"
     ]
    },
    {
     "name": "stderr",
     "output_type": "stream",
     "text": [
      " 86%|████████▌ | 481/559 [01:22<00:13,  5.91it/s]"
     ]
    },
    {
     "name": "stdout",
     "output_type": "stream",
     "text": [
      "/Users/alex_wheelis/Documents/programming/red_wolf_detection/human_detector_output/pred_145.png\n"
     ]
    },
    {
     "name": "stderr",
     "output_type": "stream",
     "text": [
      " 87%|████████▋ | 487/559 [01:24<00:14,  5.03it/s]"
     ]
    },
    {
     "name": "stdout",
     "output_type": "stream",
     "text": [
      "/Users/alex_wheelis/Documents/programming/red_wolf_detection/human_detector_output/pred_151.png\n",
      "/Users/alex_wheelis/Documents/programming/red_wolf_detection/human_detector_output/pred_87.png\n",
      "/Users/alex_wheelis/Documents/programming/red_wolf_detection/human_detector_output/pred_179.png\n",
      "/Users/alex_wheelis/Documents/programming/red_wolf_detection/human_detector_output/pred_93.png\n",
      "/Users/alex_wheelis/Documents/programming/red_wolf_detection/human_detector_output/pred_78.png\n",
      "/Users/alex_wheelis/Documents/programming/red_wolf_detection/human_detector_output/pred_186.png\n",
      "/Users/alex_wheelis/Documents/programming/red_wolf_detection/human_detector_output/pred_192.png\n",
      "/Users/alex_wheelis/Documents/programming/red_wolf_detection/human_detector_output/pred_44.png\n"
     ]
    },
    {
     "name": "stderr",
     "output_type": "stream",
     "text": [
      " 89%|████████▊ | 496/559 [01:24<00:07,  8.94it/s]"
     ]
    },
    {
     "name": "stdout",
     "output_type": "stream",
     "text": [
      "/Users/alex_wheelis/Documents/programming/red_wolf_detection/human_detector_output/pred_2.png\n",
      "/Users/alex_wheelis/Documents/programming/red_wolf_detection/human_detector_output/pred_50.png\n",
      "/Users/alex_wheelis/Documents/programming/red_wolf_detection/human_detector_output/pred_233.png\n",
      "/Users/alex_wheelis/Documents/programming/red_wolf_detection/human_detector_output/pred_555.png\n",
      "/Users/alex_wheelis/Documents/programming/red_wolf_detection/human_detector_output/pred_541.png\n",
      "/Users/alex_wheelis/Documents/programming/red_wolf_detection/human_detector_output/pred_227.png\n",
      "/Users/alex_wheelis/Documents/programming/red_wolf_detection/human_detector_output/pred_540.png\n"
     ]
    },
    {
     "name": "stderr",
     "output_type": "stream",
     "text": [
      " 90%|████████▉ | 501/559 [01:24<00:04, 11.88it/s]"
     ]
    },
    {
     "name": "stdout",
     "output_type": "stream",
     "text": [
      "/Users/alex_wheelis/Documents/programming/red_wolf_detection/human_detector_output/pred_226.png\n",
      "/Users/alex_wheelis/Documents/programming/red_wolf_detection/human_detector_output/pred_232.png\n",
      "/Users/alex_wheelis/Documents/programming/red_wolf_detection/human_detector_output/pred_554.png\n",
      "/Users/alex_wheelis/Documents/programming/red_wolf_detection/human_detector_output/pred_3.png\n",
      "/Users/alex_wheelis/Documents/programming/red_wolf_detection/human_detector_output/pred_51.png\n",
      "/Users/alex_wheelis/Documents/programming/red_wolf_detection/human_detector_output/pred_45.png\n",
      "/Users/alex_wheelis/Documents/programming/red_wolf_detection/human_detector_output/pred_193.png\n"
     ]
    },
    {
     "name": "stderr",
     "output_type": "stream",
     "text": [
      " 90%|█████████ | 505/559 [01:24<00:03, 14.45it/s]"
     ]
    },
    {
     "name": "stdout",
     "output_type": "stream",
     "text": [
      "/Users/alex_wheelis/Documents/programming/red_wolf_detection/human_detector_output/pred_79.png\n",
      "/Users/alex_wheelis/Documents/programming/red_wolf_detection/human_detector_output/pred_187.png\n",
      "/Users/alex_wheelis/Documents/programming/red_wolf_detection/human_detector_output/pred_92.png\n",
      "/Users/alex_wheelis/Documents/programming/red_wolf_detection/human_detector_output/pred_86.png\n",
      "/Users/alex_wheelis/Documents/programming/red_wolf_detection/human_detector_output/pred_178.png\n"
     ]
    },
    {
     "name": "stderr",
     "output_type": "stream",
     "text": [
      " 91%|█████████ | 509/559 [01:26<00:09,  5.48it/s]"
     ]
    },
    {
     "name": "stdout",
     "output_type": "stream",
     "text": [
      "/Users/alex_wheelis/Documents/programming/red_wolf_detection/human_detector_output/pred_150.png\n"
     ]
    },
    {
     "name": "stderr",
     "output_type": "stream",
     "text": [
      " 93%|█████████▎| 522/559 [01:28<00:04,  7.62it/s]"
     ]
    },
    {
     "name": "stdout",
     "output_type": "stream",
     "text": [
      "/Users/alex_wheelis/Documents/programming/red_wolf_detection/human_detector_output/pred_144.png\n",
      "/Users/alex_wheelis/Documents/programming/red_wolf_detection/human_detector_output/pred_391.png\n",
      "/Users/alex_wheelis/Documents/programming/red_wolf_detection/human_detector_output/pred_385.png\n",
      "/Users/alex_wheelis/Documents/programming/red_wolf_detection/human_detector_output/pred_408.png\n",
      "/Users/alex_wheelis/Documents/programming/red_wolf_detection/human_detector_output/pred_434.png\n",
      "/Users/alex_wheelis/Documents/programming/red_wolf_detection/human_detector_output/pred_352.png\n",
      "/Users/alex_wheelis/Documents/programming/red_wolf_detection/human_detector_output/pred_346.png\n",
      "/Users/alex_wheelis/Documents/programming/red_wolf_detection/human_detector_output/pred_420.png\n",
      "/Users/alex_wheelis/Documents/programming/red_wolf_detection/human_detector_output/pred_350.png\n",
      "/Users/alex_wheelis/Documents/programming/red_wolf_detection/human_detector_output/pred_436.png\n",
      "/Users/alex_wheelis/Documents/programming/red_wolf_detection/human_detector_output/pred_422.png\n",
      "/Users/alex_wheelis/Documents/programming/red_wolf_detection/human_detector_output/pred_344.png\n",
      "/Users/alex_wheelis/Documents/programming/red_wolf_detection/human_detector_output/pred_378.png\n",
      "/Users/alex_wheelis/Documents/programming/red_wolf_detection/human_detector_output/pred_393.png\n",
      "/Users/alex_wheelis/Documents/programming/red_wolf_detection/human_detector_output/pred_387.png\n",
      "/Users/alex_wheelis/Documents/programming/red_wolf_detection/human_detector_output/pred_152.png\n"
     ]
    },
    {
     "name": "stderr",
     "output_type": "stream",
     "text": [
      " 95%|█████████▍| 530/559 [01:31<00:06,  4.43it/s]"
     ]
    },
    {
     "name": "stdout",
     "output_type": "stream",
     "text": [
      "/Users/alex_wheelis/Documents/programming/red_wolf_detection/human_detector_output/pred_146.png\n",
      "/Users/alex_wheelis/Documents/programming/red_wolf_detection/human_detector_output/pred_90.png\n",
      "/Users/alex_wheelis/Documents/programming/red_wolf_detection/human_detector_output/pred_84.png\n",
      "/Users/alex_wheelis/Documents/programming/red_wolf_detection/human_detector_output/pred_191.png\n",
      "/Users/alex_wheelis/Documents/programming/red_wolf_detection/human_detector_output/pred_185.png\n",
      "/Users/alex_wheelis/Documents/programming/red_wolf_detection/human_detector_output/pred_53.png\n",
      "/Users/alex_wheelis/Documents/programming/red_wolf_detection/human_detector_output/pred_1.png\n"
     ]
    },
    {
     "name": "stderr",
     "output_type": "stream",
     "text": [
      " 96%|█████████▌| 538/559 [01:31<00:02,  7.44it/s]"
     ]
    },
    {
     "name": "stdout",
     "output_type": "stream",
     "text": [
      "/Users/alex_wheelis/Documents/programming/red_wolf_detection/human_detector_output/pred_47.png\n",
      "/Users/alex_wheelis/Documents/programming/red_wolf_detection/human_detector_output/pred_224.png\n",
      "/Users/alex_wheelis/Documents/programming/red_wolf_detection/human_detector_output/pred_542.png\n",
      "/Users/alex_wheelis/Documents/programming/red_wolf_detection/human_detector_output/pred_556.png\n",
      "/Users/alex_wheelis/Documents/programming/red_wolf_detection/human_detector_output/pred_230.png\n",
      "/Users/alex_wheelis/Documents/programming/red_wolf_detection/human_detector_output/pred_218.png\n",
      "/Users/alex_wheelis/Documents/programming/red_wolf_detection/human_detector_output/pred_219.png\n"
     ]
    },
    {
     "name": "stderr",
     "output_type": "stream",
     "text": [
      " 97%|█████████▋| 542/559 [01:31<00:01,  9.26it/s]"
     ]
    },
    {
     "name": "stdout",
     "output_type": "stream",
     "text": [
      "/Users/alex_wheelis/Documents/programming/red_wolf_detection/human_detector_output/pred_557.png\n",
      "/Users/alex_wheelis/Documents/programming/red_wolf_detection/human_detector_output/pred_231.png\n",
      "/Users/alex_wheelis/Documents/programming/red_wolf_detection/human_detector_output/pred_225.png\n",
      "/Users/alex_wheelis/Documents/programming/red_wolf_detection/human_detector_output/pred_543.png\n",
      "/Users/alex_wheelis/Documents/programming/red_wolf_detection/human_detector_output/pred_46.png\n"
     ]
    },
    {
     "name": "stderr",
     "output_type": "stream",
     "text": [
      " 98%|█████████▊| 550/559 [01:32<00:00, 13.32it/s]"
     ]
    },
    {
     "name": "stdout",
     "output_type": "stream",
     "text": [
      "/Users/alex_wheelis/Documents/programming/red_wolf_detection/human_detector_output/pred_52.png\n",
      "/Users/alex_wheelis/Documents/programming/red_wolf_detection/human_detector_output/pred_0.png\n",
      "/Users/alex_wheelis/Documents/programming/red_wolf_detection/human_detector_output/pred_184.png\n",
      "/Users/alex_wheelis/Documents/programming/red_wolf_detection/human_detector_output/pred_190.png\n",
      "/Users/alex_wheelis/Documents/programming/red_wolf_detection/human_detector_output/pred_85.png\n",
      "/Users/alex_wheelis/Documents/programming/red_wolf_detection/human_detector_output/pred_91.png\n"
     ]
    },
    {
     "name": "stderr",
     "output_type": "stream",
     "text": [
      "100%|██████████| 559/559 [01:34<00:00,  5.93it/s]"
     ]
    },
    {
     "name": "stdout",
     "output_type": "stream",
     "text": [
      "/Users/alex_wheelis/Documents/programming/red_wolf_detection/human_detector_output/pred_147.png\n",
      "/Users/alex_wheelis/Documents/programming/red_wolf_detection/human_detector_output/pred_153.png\n",
      "/Users/alex_wheelis/Documents/programming/red_wolf_detection/human_detector_output/pred_386.png\n",
      "/Users/alex_wheelis/Documents/programming/red_wolf_detection/human_detector_output/pred_392.png\n",
      "/Users/alex_wheelis/Documents/programming/red_wolf_detection/human_detector_output/pred_379.png\n",
      "/Users/alex_wheelis/Documents/programming/red_wolf_detection/human_detector_output/pred_423.png\n",
      "/Users/alex_wheelis/Documents/programming/red_wolf_detection/human_detector_output/pred_345.png\n",
      "/Users/alex_wheelis/Documents/programming/red_wolf_detection/human_detector_output/pred_351.png\n",
      "/Users/alex_wheelis/Documents/programming/red_wolf_detection/human_detector_output/pred_437.png\n"
     ]
    },
    {
     "name": "stderr",
     "output_type": "stream",
     "text": [
      "\n"
     ]
    }
   ],
   "source": [
    "# import the necessary packages\n",
    "import numpy as np\n",
    "import cv2\n",
    "import sys\n",
    "import matplotlib.pyplot as plt\n",
    "import tqdm as tqdm\n",
    " \n",
    "sys.path.append(\"/Users/alex_wheelis/Documents/programming/red_wolf_detection/backend/algo_dev\")\n",
    "from misc import *\n",
    "\n",
    "# cited: https://thedatafrog.com/en/articles/human-detection-video/\n",
    "\n",
    "# initialize the HOG descriptor/person detector\n",
    "hog = cv2.HOGDescriptor()\n",
    "hog.setSVMDetector(cv2.HOGDescriptor_getDefaultPeopleDetector())\n",
    "\n",
    "import glob\n",
    "\n",
    "human_dataset = glob.glob(\"/Users/alex_wheelis/Documents/programming/red_wolf_detection/human_detection_dataset/1/*.png\")\n",
    "\n",
    "model_output_dir = \"/Users/alex_wheelis/Documents/programming/red_wolf_detection/human_detector_output/\"\n",
    "\n",
    "for img_f in tqdm.tqdm(human_dataset): \n",
    "    \n",
    "    img = cv2.imread(img_f)\n",
    "    img = cv2.cvtColor(img, cv2.COLOR_BGR2GRAY)\n",
    "    \n",
    "    boxes, weights = hog.detectMultiScale(img, winStride=(8,8) )\n",
    "\n",
    "    boxes = np.array([[x, y, x + w, y + h] for (x, y, w, h) in boxes])\n",
    "\n",
    "    for (xA, yA, xB, yB) in boxes:\n",
    "        # display the detected boxes in the colour picture\n",
    "        cv2.rectangle(img, (xA, yA), (xB, yB),(0, 255, 0), 2)\n",
    "    img_f = img_f[img_f.rindex(\"/\")+1:]\n",
    "    cv2.imwrite(model_output_dir + \"pred_\" + img_f, img)\n",
    "#     print(model_output_dir + \"pred_\" + img_f)\n",
    "\n"
   ]
  },
  {
   "cell_type": "code",
   "execution_count": 8,
   "id": "64133fee-eb65-412b-8b1d-b743dc5ea01d",
   "metadata": {},
   "outputs": [
    {
     "data": {
      "text/plain": [
       "['/Users/alex_wheelis/Documents/programming/red_wolf_detection/human_detection_dataset/1/348.png',\n",
       " '/Users/alex_wheelis/Documents/programming/red_wolf_detection/human_detection_dataset/1/412.png',\n",
       " '/Users/alex_wheelis/Documents/programming/red_wolf_detection/human_detection_dataset/1/374.png',\n",
       " '/Users/alex_wheelis/Documents/programming/red_wolf_detection/human_detection_dataset/1/360.png',\n",
       " '/Users/alex_wheelis/Documents/programming/red_wolf_detection/human_detection_dataset/1/406.png',\n",
       " '/Users/alex_wheelis/Documents/programming/red_wolf_detection/human_detection_dataset/1/176.png',\n",
       " '/Users/alex_wheelis/Documents/programming/red_wolf_detection/human_detection_dataset/1/88.png',\n",
       " '/Users/alex_wheelis/Documents/programming/red_wolf_detection/human_detection_dataset/1/162.png',\n",
       " '/Users/alex_wheelis/Documents/programming/red_wolf_detection/human_detection_dataset/1/189.png',\n",
       " '/Users/alex_wheelis/Documents/programming/red_wolf_detection/human_detection_dataset/1/77.png',\n",
       " '/Users/alex_wheelis/Documents/programming/red_wolf_detection/human_detection_dataset/1/63.png',\n",
       " '/Users/alex_wheelis/Documents/programming/red_wolf_detection/human_detection_dataset/1/228.png',\n",
       " '/Users/alex_wheelis/Documents/programming/red_wolf_detection/human_detection_dataset/1/200.png',\n",
       " '/Users/alex_wheelis/Documents/programming/red_wolf_detection/human_detection_dataset/1/214.png',\n",
       " '/Users/alex_wheelis/Documents/programming/red_wolf_detection/human_detection_dataset/1/215.png',\n",
       " '/Users/alex_wheelis/Documents/programming/red_wolf_detection/human_detection_dataset/1/201.png',\n",
       " '/Users/alex_wheelis/Documents/programming/red_wolf_detection/human_detection_dataset/1/229.png',\n",
       " '/Users/alex_wheelis/Documents/programming/red_wolf_detection/human_detection_dataset/1/62.png',\n",
       " '/Users/alex_wheelis/Documents/programming/red_wolf_detection/human_detection_dataset/1/188.png',\n",
       " '/Users/alex_wheelis/Documents/programming/red_wolf_detection/human_detection_dataset/1/76.png',\n",
       " '/Users/alex_wheelis/Documents/programming/red_wolf_detection/human_detection_dataset/1/163.png',\n",
       " '/Users/alex_wheelis/Documents/programming/red_wolf_detection/human_detection_dataset/1/177.png',\n",
       " '/Users/alex_wheelis/Documents/programming/red_wolf_detection/human_detection_dataset/1/89.png',\n",
       " '/Users/alex_wheelis/Documents/programming/red_wolf_detection/human_detection_dataset/1/361.png',\n",
       " '/Users/alex_wheelis/Documents/programming/red_wolf_detection/human_detection_dataset/1/407.png',\n",
       " '/Users/alex_wheelis/Documents/programming/red_wolf_detection/human_detection_dataset/1/413.png',\n",
       " '/Users/alex_wheelis/Documents/programming/red_wolf_detection/human_detection_dataset/1/375.png',\n",
       " '/Users/alex_wheelis/Documents/programming/red_wolf_detection/human_detection_dataset/1/349.png',\n",
       " '/Users/alex_wheelis/Documents/programming/red_wolf_detection/human_detection_dataset/1/439.png',\n",
       " '/Users/alex_wheelis/Documents/programming/red_wolf_detection/human_detection_dataset/1/405.png',\n",
       " '/Users/alex_wheelis/Documents/programming/red_wolf_detection/human_detection_dataset/1/363.png',\n",
       " '/Users/alex_wheelis/Documents/programming/red_wolf_detection/human_detection_dataset/1/377.png',\n",
       " '/Users/alex_wheelis/Documents/programming/red_wolf_detection/human_detection_dataset/1/411.png',\n",
       " '/Users/alex_wheelis/Documents/programming/red_wolf_detection/human_detection_dataset/1/388.png',\n",
       " '/Users/alex_wheelis/Documents/programming/red_wolf_detection/human_detection_dataset/1/149.png',\n",
       " '/Users/alex_wheelis/Documents/programming/red_wolf_detection/human_detection_dataset/1/161.png',\n",
       " '/Users/alex_wheelis/Documents/programming/red_wolf_detection/human_detection_dataset/1/175.png',\n",
       " '/Users/alex_wheelis/Documents/programming/red_wolf_detection/human_detection_dataset/1/60.png',\n",
       " '/Users/alex_wheelis/Documents/programming/red_wolf_detection/human_detection_dataset/1/74.png',\n",
       " '/Users/alex_wheelis/Documents/programming/red_wolf_detection/human_detection_dataset/1/48.png',\n",
       " '/Users/alex_wheelis/Documents/programming/red_wolf_detection/human_detection_dataset/1/217.png',\n",
       " '/Users/alex_wheelis/Documents/programming/red_wolf_detection/human_detection_dataset/1/203.png',\n",
       " '/Users/alex_wheelis/Documents/programming/red_wolf_detection/human_detection_dataset/1/202.png',\n",
       " '/Users/alex_wheelis/Documents/programming/red_wolf_detection/human_detection_dataset/1/216.png',\n",
       " '/Users/alex_wheelis/Documents/programming/red_wolf_detection/human_detection_dataset/1/558.png',\n",
       " '/Users/alex_wheelis/Documents/programming/red_wolf_detection/human_detection_dataset/1/49.png',\n",
       " '/Users/alex_wheelis/Documents/programming/red_wolf_detection/human_detection_dataset/1/75.png',\n",
       " '/Users/alex_wheelis/Documents/programming/red_wolf_detection/human_detection_dataset/1/61.png',\n",
       " '/Users/alex_wheelis/Documents/programming/red_wolf_detection/human_detection_dataset/1/174.png',\n",
       " '/Users/alex_wheelis/Documents/programming/red_wolf_detection/human_detection_dataset/1/160.png',\n",
       " '/Users/alex_wheelis/Documents/programming/red_wolf_detection/human_detection_dataset/1/148.png',\n",
       " '/Users/alex_wheelis/Documents/programming/red_wolf_detection/human_detection_dataset/1/389.png',\n",
       " '/Users/alex_wheelis/Documents/programming/red_wolf_detection/human_detection_dataset/1/376.png',\n",
       " '/Users/alex_wheelis/Documents/programming/red_wolf_detection/human_detection_dataset/1/410.png',\n",
       " '/Users/alex_wheelis/Documents/programming/red_wolf_detection/human_detection_dataset/1/404.png',\n",
       " '/Users/alex_wheelis/Documents/programming/red_wolf_detection/human_detection_dataset/1/362.png',\n",
       " '/Users/alex_wheelis/Documents/programming/red_wolf_detection/human_detection_dataset/1/438.png',\n",
       " '/Users/alex_wheelis/Documents/programming/red_wolf_detection/human_detection_dataset/1/366.png',\n",
       " '/Users/alex_wheelis/Documents/programming/red_wolf_detection/human_detection_dataset/1/400.png',\n",
       " '/Users/alex_wheelis/Documents/programming/red_wolf_detection/human_detection_dataset/1/414.png',\n",
       " '/Users/alex_wheelis/Documents/programming/red_wolf_detection/human_detection_dataset/1/372.png',\n",
       " '/Users/alex_wheelis/Documents/programming/red_wolf_detection/human_detection_dataset/1/428.png',\n",
       " '/Users/alex_wheelis/Documents/programming/red_wolf_detection/human_detection_dataset/1/399.png',\n",
       " '/Users/alex_wheelis/Documents/programming/red_wolf_detection/human_detection_dataset/1/164.png',\n",
       " '/Users/alex_wheelis/Documents/programming/red_wolf_detection/human_detection_dataset/1/170.png',\n",
       " '/Users/alex_wheelis/Documents/programming/red_wolf_detection/human_detection_dataset/1/158.png',\n",
       " '/Users/alex_wheelis/Documents/programming/red_wolf_detection/human_detection_dataset/1/59.png',\n",
       " '/Users/alex_wheelis/Documents/programming/red_wolf_detection/human_detection_dataset/1/65.png',\n",
       " '/Users/alex_wheelis/Documents/programming/red_wolf_detection/human_detection_dataset/1/71.png',\n",
       " '/Users/alex_wheelis/Documents/programming/red_wolf_detection/human_detection_dataset/1/212.png',\n",
       " '/Users/alex_wheelis/Documents/programming/red_wolf_detection/human_detection_dataset/1/206.png',\n",
       " '/Users/alex_wheelis/Documents/programming/red_wolf_detection/human_detection_dataset/1/548.png',\n",
       " '/Users/alex_wheelis/Documents/programming/red_wolf_detection/human_detection_dataset/1/549.png',\n",
       " '/Users/alex_wheelis/Documents/programming/red_wolf_detection/human_detection_dataset/1/207.png',\n",
       " '/Users/alex_wheelis/Documents/programming/red_wolf_detection/human_detection_dataset/1/213.png',\n",
       " '/Users/alex_wheelis/Documents/programming/red_wolf_detection/human_detection_dataset/1/70.png',\n",
       " '/Users/alex_wheelis/Documents/programming/red_wolf_detection/human_detection_dataset/1/64.png',\n",
       " '/Users/alex_wheelis/Documents/programming/red_wolf_detection/human_detection_dataset/1/58.png',\n",
       " '/Users/alex_wheelis/Documents/programming/red_wolf_detection/human_detection_dataset/1/159.png',\n",
       " '/Users/alex_wheelis/Documents/programming/red_wolf_detection/human_detection_dataset/1/171.png',\n",
       " '/Users/alex_wheelis/Documents/programming/red_wolf_detection/human_detection_dataset/1/165.png',\n",
       " '/Users/alex_wheelis/Documents/programming/red_wolf_detection/human_detection_dataset/1/398.png',\n",
       " '/Users/alex_wheelis/Documents/programming/red_wolf_detection/human_detection_dataset/1/429.png',\n",
       " '/Users/alex_wheelis/Documents/programming/red_wolf_detection/human_detection_dataset/1/415.png',\n",
       " '/Users/alex_wheelis/Documents/programming/red_wolf_detection/human_detection_dataset/1/373.png',\n",
       " '/Users/alex_wheelis/Documents/programming/red_wolf_detection/human_detection_dataset/1/367.png',\n",
       " '/Users/alex_wheelis/Documents/programming/red_wolf_detection/human_detection_dataset/1/401.png',\n",
       " '/Users/alex_wheelis/Documents/programming/red_wolf_detection/human_detection_dataset/1/371.png',\n",
       " '/Users/alex_wheelis/Documents/programming/red_wolf_detection/human_detection_dataset/1/417.png',\n",
       " '/Users/alex_wheelis/Documents/programming/red_wolf_detection/human_detection_dataset/1/403.png',\n",
       " '/Users/alex_wheelis/Documents/programming/red_wolf_detection/human_detection_dataset/1/365.png',\n",
       " '/Users/alex_wheelis/Documents/programming/red_wolf_detection/human_detection_dataset/1/359.png',\n",
       " '/Users/alex_wheelis/Documents/programming/red_wolf_detection/human_detection_dataset/1/173.png',\n",
       " '/Users/alex_wheelis/Documents/programming/red_wolf_detection/human_detection_dataset/1/167.png',\n",
       " '/Users/alex_wheelis/Documents/programming/red_wolf_detection/human_detection_dataset/1/99.png',\n",
       " '/Users/alex_wheelis/Documents/programming/red_wolf_detection/human_detection_dataset/1/8.png',\n",
       " '/Users/alex_wheelis/Documents/programming/red_wolf_detection/human_detection_dataset/1/72.png',\n",
       " '/Users/alex_wheelis/Documents/programming/red_wolf_detection/human_detection_dataset/1/198.png',\n",
       " '/Users/alex_wheelis/Documents/programming/red_wolf_detection/human_detection_dataset/1/66.png',\n",
       " '/Users/alex_wheelis/Documents/programming/red_wolf_detection/human_detection_dataset/1/205.png',\n",
       " '/Users/alex_wheelis/Documents/programming/red_wolf_detection/human_detection_dataset/1/211.png',\n",
       " '/Users/alex_wheelis/Documents/programming/red_wolf_detection/human_detection_dataset/1/239.png',\n",
       " '/Users/alex_wheelis/Documents/programming/red_wolf_detection/human_detection_dataset/1/238.png',\n",
       " '/Users/alex_wheelis/Documents/programming/red_wolf_detection/human_detection_dataset/1/210.png',\n",
       " '/Users/alex_wheelis/Documents/programming/red_wolf_detection/human_detection_dataset/1/204.png',\n",
       " '/Users/alex_wheelis/Documents/programming/red_wolf_detection/human_detection_dataset/1/199.png',\n",
       " '/Users/alex_wheelis/Documents/programming/red_wolf_detection/human_detection_dataset/1/67.png',\n",
       " '/Users/alex_wheelis/Documents/programming/red_wolf_detection/human_detection_dataset/1/73.png',\n",
       " '/Users/alex_wheelis/Documents/programming/red_wolf_detection/human_detection_dataset/1/9.png',\n",
       " '/Users/alex_wheelis/Documents/programming/red_wolf_detection/human_detection_dataset/1/166.png',\n",
       " '/Users/alex_wheelis/Documents/programming/red_wolf_detection/human_detection_dataset/1/98.png',\n",
       " '/Users/alex_wheelis/Documents/programming/red_wolf_detection/human_detection_dataset/1/172.png',\n",
       " '/Users/alex_wheelis/Documents/programming/red_wolf_detection/human_detection_dataset/1/358.png',\n",
       " '/Users/alex_wheelis/Documents/programming/red_wolf_detection/human_detection_dataset/1/402.png',\n",
       " '/Users/alex_wheelis/Documents/programming/red_wolf_detection/human_detection_dataset/1/364.png',\n",
       " '/Users/alex_wheelis/Documents/programming/red_wolf_detection/human_detection_dataset/1/370.png',\n",
       " '/Users/alex_wheelis/Documents/programming/red_wolf_detection/human_detection_dataset/1/416.png',\n",
       " '/Users/alex_wheelis/Documents/programming/red_wolf_detection/human_detection_dataset/1/459.png',\n",
       " '/Users/alex_wheelis/Documents/programming/red_wolf_detection/human_detection_dataset/1/317.png',\n",
       " '/Users/alex_wheelis/Documents/programming/red_wolf_detection/human_detection_dataset/1/471.png',\n",
       " '/Users/alex_wheelis/Documents/programming/red_wolf_detection/human_detection_dataset/1/465.png',\n",
       " '/Users/alex_wheelis/Documents/programming/red_wolf_detection/human_detection_dataset/1/303.png',\n",
       " '/Users/alex_wheelis/Documents/programming/red_wolf_detection/human_detection_dataset/1/129.png',\n",
       " '/Users/alex_wheelis/Documents/programming/red_wolf_detection/human_detection_dataset/1/115.png',\n",
       " '/Users/alex_wheelis/Documents/programming/red_wolf_detection/human_detection_dataset/1/101.png',\n",
       " '/Users/alex_wheelis/Documents/programming/red_wolf_detection/human_detection_dataset/1/14.png',\n",
       " '/Users/alex_wheelis/Documents/programming/red_wolf_detection/human_detection_dataset/1/28.png',\n",
       " '/Users/alex_wheelis/Documents/programming/red_wolf_detection/human_detection_dataset/1/539.png',\n",
       " '/Users/alex_wheelis/Documents/programming/red_wolf_detection/human_detection_dataset/1/263.png',\n",
       " '/Users/alex_wheelis/Documents/programming/red_wolf_detection/human_detection_dataset/1/505.png',\n",
       " '/Users/alex_wheelis/Documents/programming/red_wolf_detection/human_detection_dataset/1/511.png',\n",
       " '/Users/alex_wheelis/Documents/programming/red_wolf_detection/human_detection_dataset/1/277.png',\n",
       " '/Users/alex_wheelis/Documents/programming/red_wolf_detection/human_detection_dataset/1/288.png',\n",
       " '/Users/alex_wheelis/Documents/programming/red_wolf_detection/human_detection_dataset/1/289.png',\n",
       " '/Users/alex_wheelis/Documents/programming/red_wolf_detection/human_detection_dataset/1/510.png',\n",
       " '/Users/alex_wheelis/Documents/programming/red_wolf_detection/human_detection_dataset/1/276.png',\n",
       " '/Users/alex_wheelis/Documents/programming/red_wolf_detection/human_detection_dataset/1/262.png',\n",
       " '/Users/alex_wheelis/Documents/programming/red_wolf_detection/human_detection_dataset/1/504.png',\n",
       " '/Users/alex_wheelis/Documents/programming/red_wolf_detection/human_detection_dataset/1/538.png',\n",
       " '/Users/alex_wheelis/Documents/programming/red_wolf_detection/human_detection_dataset/1/29.png',\n",
       " '/Users/alex_wheelis/Documents/programming/red_wolf_detection/human_detection_dataset/1/15.png',\n",
       " '/Users/alex_wheelis/Documents/programming/red_wolf_detection/human_detection_dataset/1/100.png',\n",
       " '/Users/alex_wheelis/Documents/programming/red_wolf_detection/human_detection_dataset/1/114.png',\n",
       " '/Users/alex_wheelis/Documents/programming/red_wolf_detection/human_detection_dataset/1/128.png',\n",
       " '/Users/alex_wheelis/Documents/programming/red_wolf_detection/human_detection_dataset/1/464.png',\n",
       " '/Users/alex_wheelis/Documents/programming/red_wolf_detection/human_detection_dataset/1/302.png',\n",
       " '/Users/alex_wheelis/Documents/programming/red_wolf_detection/human_detection_dataset/1/316.png',\n",
       " '/Users/alex_wheelis/Documents/programming/red_wolf_detection/human_detection_dataset/1/470.png',\n",
       " '/Users/alex_wheelis/Documents/programming/red_wolf_detection/human_detection_dataset/1/458.png',\n",
       " '/Users/alex_wheelis/Documents/programming/red_wolf_detection/human_detection_dataset/1/328.png',\n",
       " '/Users/alex_wheelis/Documents/programming/red_wolf_detection/human_detection_dataset/1/300.png',\n",
       " '/Users/alex_wheelis/Documents/programming/red_wolf_detection/human_detection_dataset/1/466.png',\n",
       " '/Users/alex_wheelis/Documents/programming/red_wolf_detection/human_detection_dataset/1/472.png',\n",
       " '/Users/alex_wheelis/Documents/programming/red_wolf_detection/human_detection_dataset/1/314.png',\n",
       " '/Users/alex_wheelis/Documents/programming/red_wolf_detection/human_detection_dataset/1/499.png',\n",
       " '/Users/alex_wheelis/Documents/programming/red_wolf_detection/human_detection_dataset/1/102.png',\n",
       " '/Users/alex_wheelis/Documents/programming/red_wolf_detection/human_detection_dataset/1/116.png',\n",
       " '/Users/alex_wheelis/Documents/programming/red_wolf_detection/human_detection_dataset/1/17.png',\n",
       " '/Users/alex_wheelis/Documents/programming/red_wolf_detection/human_detection_dataset/1/248.png',\n",
       " '/Users/alex_wheelis/Documents/programming/red_wolf_detection/human_detection_dataset/1/274.png',\n",
       " '/Users/alex_wheelis/Documents/programming/red_wolf_detection/human_detection_dataset/1/512.png',\n",
       " '/Users/alex_wheelis/Documents/programming/red_wolf_detection/human_detection_dataset/1/506.png',\n",
       " '/Users/alex_wheelis/Documents/programming/red_wolf_detection/human_detection_dataset/1/260.png',\n",
       " '/Users/alex_wheelis/Documents/programming/red_wolf_detection/human_detection_dataset/1/507.png',\n",
       " '/Users/alex_wheelis/Documents/programming/red_wolf_detection/human_detection_dataset/1/261.png',\n",
       " '/Users/alex_wheelis/Documents/programming/red_wolf_detection/human_detection_dataset/1/275.png',\n",
       " '/Users/alex_wheelis/Documents/programming/red_wolf_detection/human_detection_dataset/1/513.png',\n",
       " '/Users/alex_wheelis/Documents/programming/red_wolf_detection/human_detection_dataset/1/249.png',\n",
       " '/Users/alex_wheelis/Documents/programming/red_wolf_detection/human_detection_dataset/1/16.png',\n",
       " '/Users/alex_wheelis/Documents/programming/red_wolf_detection/human_detection_dataset/1/117.png',\n",
       " '/Users/alex_wheelis/Documents/programming/red_wolf_detection/human_detection_dataset/1/103.png',\n",
       " '/Users/alex_wheelis/Documents/programming/red_wolf_detection/human_detection_dataset/1/498.png',\n",
       " '/Users/alex_wheelis/Documents/programming/red_wolf_detection/human_detection_dataset/1/473.png',\n",
       " '/Users/alex_wheelis/Documents/programming/red_wolf_detection/human_detection_dataset/1/315.png',\n",
       " '/Users/alex_wheelis/Documents/programming/red_wolf_detection/human_detection_dataset/1/301.png',\n",
       " '/Users/alex_wheelis/Documents/programming/red_wolf_detection/human_detection_dataset/1/467.png',\n",
       " '/Users/alex_wheelis/Documents/programming/red_wolf_detection/human_detection_dataset/1/329.png',\n",
       " '/Users/alex_wheelis/Documents/programming/red_wolf_detection/human_detection_dataset/1/463.png',\n",
       " '/Users/alex_wheelis/Documents/programming/red_wolf_detection/human_detection_dataset/1/305.png',\n",
       " '/Users/alex_wheelis/Documents/programming/red_wolf_detection/human_detection_dataset/1/311.png',\n",
       " '/Users/alex_wheelis/Documents/programming/red_wolf_detection/human_detection_dataset/1/477.png',\n",
       " '/Users/alex_wheelis/Documents/programming/red_wolf_detection/human_detection_dataset/1/339.png',\n",
       " '/Users/alex_wheelis/Documents/programming/red_wolf_detection/human_detection_dataset/1/488.png',\n",
       " '/Users/alex_wheelis/Documents/programming/red_wolf_detection/human_detection_dataset/1/107.png',\n",
       " '/Users/alex_wheelis/Documents/programming/red_wolf_detection/human_detection_dataset/1/113.png',\n",
       " '/Users/alex_wheelis/Documents/programming/red_wolf_detection/human_detection_dataset/1/12.png',\n",
       " '/Users/alex_wheelis/Documents/programming/red_wolf_detection/human_detection_dataset/1/517.png',\n",
       " '/Users/alex_wheelis/Documents/programming/red_wolf_detection/human_detection_dataset/1/271.png',\n",
       " '/Users/alex_wheelis/Documents/programming/red_wolf_detection/human_detection_dataset/1/265.png',\n",
       " '/Users/alex_wheelis/Documents/programming/red_wolf_detection/human_detection_dataset/1/503.png',\n",
       " '/Users/alex_wheelis/Documents/programming/red_wolf_detection/human_detection_dataset/1/259.png',\n",
       " '/Users/alex_wheelis/Documents/programming/red_wolf_detection/human_detection_dataset/1/258.png',\n",
       " '/Users/alex_wheelis/Documents/programming/red_wolf_detection/human_detection_dataset/1/264.png',\n",
       " '/Users/alex_wheelis/Documents/programming/red_wolf_detection/human_detection_dataset/1/502.png',\n",
       " '/Users/alex_wheelis/Documents/programming/red_wolf_detection/human_detection_dataset/1/516.png',\n",
       " '/Users/alex_wheelis/Documents/programming/red_wolf_detection/human_detection_dataset/1/270.png',\n",
       " '/Users/alex_wheelis/Documents/programming/red_wolf_detection/human_detection_dataset/1/13.png',\n",
       " '/Users/alex_wheelis/Documents/programming/red_wolf_detection/human_detection_dataset/1/112.png',\n",
       " '/Users/alex_wheelis/Documents/programming/red_wolf_detection/human_detection_dataset/1/106.png',\n",
       " '/Users/alex_wheelis/Documents/programming/red_wolf_detection/human_detection_dataset/1/489.png',\n",
       " '/Users/alex_wheelis/Documents/programming/red_wolf_detection/human_detection_dataset/1/338.png',\n",
       " '/Users/alex_wheelis/Documents/programming/red_wolf_detection/human_detection_dataset/1/310.png',\n",
       " '/Users/alex_wheelis/Documents/programming/red_wolf_detection/human_detection_dataset/1/476.png',\n",
       " '/Users/alex_wheelis/Documents/programming/red_wolf_detection/human_detection_dataset/1/462.png',\n",
       " '/Users/alex_wheelis/Documents/programming/red_wolf_detection/human_detection_dataset/1/304.png',\n",
       " '/Users/alex_wheelis/Documents/programming/red_wolf_detection/human_detection_dataset/1/474.png',\n",
       " '/Users/alex_wheelis/Documents/programming/red_wolf_detection/human_detection_dataset/1/312.png',\n",
       " '/Users/alex_wheelis/Documents/programming/red_wolf_detection/human_detection_dataset/1/306.png',\n",
       " '/Users/alex_wheelis/Documents/programming/red_wolf_detection/human_detection_dataset/1/460.png',\n",
       " '/Users/alex_wheelis/Documents/programming/red_wolf_detection/human_detection_dataset/1/448.png',\n",
       " '/Users/alex_wheelis/Documents/programming/red_wolf_detection/human_detection_dataset/1/110.png',\n",
       " '/Users/alex_wheelis/Documents/programming/red_wolf_detection/human_detection_dataset/1/104.png',\n",
       " '/Users/alex_wheelis/Documents/programming/red_wolf_detection/human_detection_dataset/1/138.png',\n",
       " '/Users/alex_wheelis/Documents/programming/red_wolf_detection/human_detection_dataset/1/39.png',\n",
       " '/Users/alex_wheelis/Documents/programming/red_wolf_detection/human_detection_dataset/1/11.png',\n",
       " '/Users/alex_wheelis/Documents/programming/red_wolf_detection/human_detection_dataset/1/500.png',\n",
       " '/Users/alex_wheelis/Documents/programming/red_wolf_detection/human_detection_dataset/1/266.png',\n",
       " '/Users/alex_wheelis/Documents/programming/red_wolf_detection/human_detection_dataset/1/272.png',\n",
       " '/Users/alex_wheelis/Documents/programming/red_wolf_detection/human_detection_dataset/1/514.png',\n",
       " '/Users/alex_wheelis/Documents/programming/red_wolf_detection/human_detection_dataset/1/528.png',\n",
       " '/Users/alex_wheelis/Documents/programming/red_wolf_detection/human_detection_dataset/1/299.png',\n",
       " '/Users/alex_wheelis/Documents/programming/red_wolf_detection/human_detection_dataset/1/298.png',\n",
       " '/Users/alex_wheelis/Documents/programming/red_wolf_detection/human_detection_dataset/1/529.png',\n",
       " '/Users/alex_wheelis/Documents/programming/red_wolf_detection/human_detection_dataset/1/273.png',\n",
       " '/Users/alex_wheelis/Documents/programming/red_wolf_detection/human_detection_dataset/1/515.png',\n",
       " '/Users/alex_wheelis/Documents/programming/red_wolf_detection/human_detection_dataset/1/501.png',\n",
       " '/Users/alex_wheelis/Documents/programming/red_wolf_detection/human_detection_dataset/1/267.png',\n",
       " '/Users/alex_wheelis/Documents/programming/red_wolf_detection/human_detection_dataset/1/10.png',\n",
       " '/Users/alex_wheelis/Documents/programming/red_wolf_detection/human_detection_dataset/1/38.png',\n",
       " '/Users/alex_wheelis/Documents/programming/red_wolf_detection/human_detection_dataset/1/139.png',\n",
       " '/Users/alex_wheelis/Documents/programming/red_wolf_detection/human_detection_dataset/1/105.png',\n",
       " '/Users/alex_wheelis/Documents/programming/red_wolf_detection/human_detection_dataset/1/111.png',\n",
       " '/Users/alex_wheelis/Documents/programming/red_wolf_detection/human_detection_dataset/1/449.png',\n",
       " '/Users/alex_wheelis/Documents/programming/red_wolf_detection/human_detection_dataset/1/307.png',\n",
       " '/Users/alex_wheelis/Documents/programming/red_wolf_detection/human_detection_dataset/1/461.png',\n",
       " '/Users/alex_wheelis/Documents/programming/red_wolf_detection/human_detection_dataset/1/475.png',\n",
       " '/Users/alex_wheelis/Documents/programming/red_wolf_detection/human_detection_dataset/1/313.png',\n",
       " '/Users/alex_wheelis/Documents/programming/red_wolf_detection/human_detection_dataset/1/478.png',\n",
       " '/Users/alex_wheelis/Documents/programming/red_wolf_detection/human_detection_dataset/1/336.png',\n",
       " '/Users/alex_wheelis/Documents/programming/red_wolf_detection/human_detection_dataset/1/450.png',\n",
       " '/Users/alex_wheelis/Documents/programming/red_wolf_detection/human_detection_dataset/1/444.png',\n",
       " '/Users/alex_wheelis/Documents/programming/red_wolf_detection/human_detection_dataset/1/322.png',\n",
       " '/Users/alex_wheelis/Documents/programming/red_wolf_detection/human_detection_dataset/1/493.png',\n",
       " '/Users/alex_wheelis/Documents/programming/red_wolf_detection/human_detection_dataset/1/487.png',\n",
       " '/Users/alex_wheelis/Documents/programming/red_wolf_detection/human_detection_dataset/1/108.png',\n",
       " '/Users/alex_wheelis/Documents/programming/red_wolf_detection/human_detection_dataset/1/134.png',\n",
       " '/Users/alex_wheelis/Documents/programming/red_wolf_detection/human_detection_dataset/1/120.png',\n",
       " '/Users/alex_wheelis/Documents/programming/red_wolf_detection/human_detection_dataset/1/35.png',\n",
       " '/Users/alex_wheelis/Documents/programming/red_wolf_detection/human_detection_dataset/1/21.png',\n",
       " '/Users/alex_wheelis/Documents/programming/red_wolf_detection/human_detection_dataset/1/518.png',\n",
       " '/Users/alex_wheelis/Documents/programming/red_wolf_detection/human_detection_dataset/1/242.png',\n",
       " '/Users/alex_wheelis/Documents/programming/red_wolf_detection/human_detection_dataset/1/524.png',\n",
       " '/Users/alex_wheelis/Documents/programming/red_wolf_detection/human_detection_dataset/1/530.png',\n",
       " '/Users/alex_wheelis/Documents/programming/red_wolf_detection/human_detection_dataset/1/256.png',\n",
       " '/Users/alex_wheelis/Documents/programming/red_wolf_detection/human_detection_dataset/1/281.png',\n",
       " '/Users/alex_wheelis/Documents/programming/red_wolf_detection/human_detection_dataset/1/295.png',\n",
       " '/Users/alex_wheelis/Documents/programming/red_wolf_detection/human_detection_dataset/1/294.png',\n",
       " '/Users/alex_wheelis/Documents/programming/red_wolf_detection/human_detection_dataset/1/280.png',\n",
       " '/Users/alex_wheelis/Documents/programming/red_wolf_detection/human_detection_dataset/1/531.png',\n",
       " '/Users/alex_wheelis/Documents/programming/red_wolf_detection/human_detection_dataset/1/257.png',\n",
       " '/Users/alex_wheelis/Documents/programming/red_wolf_detection/human_detection_dataset/1/243.png',\n",
       " '/Users/alex_wheelis/Documents/programming/red_wolf_detection/human_detection_dataset/1/525.png',\n",
       " '/Users/alex_wheelis/Documents/programming/red_wolf_detection/human_detection_dataset/1/519.png',\n",
       " '/Users/alex_wheelis/Documents/programming/red_wolf_detection/human_detection_dataset/1/20.png',\n",
       " '/Users/alex_wheelis/Documents/programming/red_wolf_detection/human_detection_dataset/1/34.png',\n",
       " '/Users/alex_wheelis/Documents/programming/red_wolf_detection/human_detection_dataset/1/121.png',\n",
       " '/Users/alex_wheelis/Documents/programming/red_wolf_detection/human_detection_dataset/1/135.png',\n",
       " '/Users/alex_wheelis/Documents/programming/red_wolf_detection/human_detection_dataset/1/109.png',\n",
       " '/Users/alex_wheelis/Documents/programming/red_wolf_detection/human_detection_dataset/1/486.png',\n",
       " '/Users/alex_wheelis/Documents/programming/red_wolf_detection/human_detection_dataset/1/492.png',\n",
       " '/Users/alex_wheelis/Documents/programming/red_wolf_detection/human_detection_dataset/1/445.png',\n",
       " '/Users/alex_wheelis/Documents/programming/red_wolf_detection/human_detection_dataset/1/323.png',\n",
       " '/Users/alex_wheelis/Documents/programming/red_wolf_detection/human_detection_dataset/1/337.png',\n",
       " '/Users/alex_wheelis/Documents/programming/red_wolf_detection/human_detection_dataset/1/451.png',\n",
       " '/Users/alex_wheelis/Documents/programming/red_wolf_detection/human_detection_dataset/1/479.png',\n",
       " '/Users/alex_wheelis/Documents/programming/red_wolf_detection/human_detection_dataset/1/309.png',\n",
       " '/Users/alex_wheelis/Documents/programming/red_wolf_detection/human_detection_dataset/1/321.png',\n",
       " '/Users/alex_wheelis/Documents/programming/red_wolf_detection/human_detection_dataset/1/447.png',\n",
       " '/Users/alex_wheelis/Documents/programming/red_wolf_detection/human_detection_dataset/1/453.png',\n",
       " '/Users/alex_wheelis/Documents/programming/red_wolf_detection/human_detection_dataset/1/335.png',\n",
       " '/Users/alex_wheelis/Documents/programming/red_wolf_detection/human_detection_dataset/1/484.png',\n",
       " '/Users/alex_wheelis/Documents/programming/red_wolf_detection/human_detection_dataset/1/490.png',\n",
       " '/Users/alex_wheelis/Documents/programming/red_wolf_detection/human_detection_dataset/1/123.png',\n",
       " '/Users/alex_wheelis/Documents/programming/red_wolf_detection/human_detection_dataset/1/137.png',\n",
       " '/Users/alex_wheelis/Documents/programming/red_wolf_detection/human_detection_dataset/1/22.png',\n",
       " '/Users/alex_wheelis/Documents/programming/red_wolf_detection/human_detection_dataset/1/36.png',\n",
       " '/Users/alex_wheelis/Documents/programming/red_wolf_detection/human_detection_dataset/1/269.png',\n",
       " '/Users/alex_wheelis/Documents/programming/red_wolf_detection/human_detection_dataset/1/255.png',\n",
       " '/Users/alex_wheelis/Documents/programming/red_wolf_detection/human_detection_dataset/1/533.png',\n",
       " '/Users/alex_wheelis/Documents/programming/red_wolf_detection/human_detection_dataset/1/527.png',\n",
       " '/Users/alex_wheelis/Documents/programming/red_wolf_detection/human_detection_dataset/1/241.png',\n",
       " '/Users/alex_wheelis/Documents/programming/red_wolf_detection/human_detection_dataset/1/296.png',\n",
       " '/Users/alex_wheelis/Documents/programming/red_wolf_detection/human_detection_dataset/1/282.png',\n",
       " '/Users/alex_wheelis/Documents/programming/red_wolf_detection/human_detection_dataset/1/283.png',\n",
       " '/Users/alex_wheelis/Documents/programming/red_wolf_detection/human_detection_dataset/1/297.png',\n",
       " '/Users/alex_wheelis/Documents/programming/red_wolf_detection/human_detection_dataset/1/526.png',\n",
       " '/Users/alex_wheelis/Documents/programming/red_wolf_detection/human_detection_dataset/1/240.png',\n",
       " '/Users/alex_wheelis/Documents/programming/red_wolf_detection/human_detection_dataset/1/254.png',\n",
       " '/Users/alex_wheelis/Documents/programming/red_wolf_detection/human_detection_dataset/1/532.png',\n",
       " '/Users/alex_wheelis/Documents/programming/red_wolf_detection/human_detection_dataset/1/268.png',\n",
       " '/Users/alex_wheelis/Documents/programming/red_wolf_detection/human_detection_dataset/1/37.png',\n",
       " '/Users/alex_wheelis/Documents/programming/red_wolf_detection/human_detection_dataset/1/23.png',\n",
       " '/Users/alex_wheelis/Documents/programming/red_wolf_detection/human_detection_dataset/1/136.png',\n",
       " '/Users/alex_wheelis/Documents/programming/red_wolf_detection/human_detection_dataset/1/122.png',\n",
       " '/Users/alex_wheelis/Documents/programming/red_wolf_detection/human_detection_dataset/1/491.png',\n",
       " '/Users/alex_wheelis/Documents/programming/red_wolf_detection/human_detection_dataset/1/485.png',\n",
       " '/Users/alex_wheelis/Documents/programming/red_wolf_detection/human_detection_dataset/1/452.png',\n",
       " '/Users/alex_wheelis/Documents/programming/red_wolf_detection/human_detection_dataset/1/334.png',\n",
       " '/Users/alex_wheelis/Documents/programming/red_wolf_detection/human_detection_dataset/1/320.png',\n",
       " '/Users/alex_wheelis/Documents/programming/red_wolf_detection/human_detection_dataset/1/446.png',\n",
       " '/Users/alex_wheelis/Documents/programming/red_wolf_detection/human_detection_dataset/1/308.png',\n",
       " '/Users/alex_wheelis/Documents/programming/red_wolf_detection/human_detection_dataset/1/442.png',\n",
       " '/Users/alex_wheelis/Documents/programming/red_wolf_detection/human_detection_dataset/1/324.png',\n",
       " '/Users/alex_wheelis/Documents/programming/red_wolf_detection/human_detection_dataset/1/330.png',\n",
       " '/Users/alex_wheelis/Documents/programming/red_wolf_detection/human_detection_dataset/1/456.png',\n",
       " '/Users/alex_wheelis/Documents/programming/red_wolf_detection/human_detection_dataset/1/318.png',\n",
       " '/Users/alex_wheelis/Documents/programming/red_wolf_detection/human_detection_dataset/1/481.png',\n",
       " '/Users/alex_wheelis/Documents/programming/red_wolf_detection/human_detection_dataset/1/495.png',\n",
       " '/Users/alex_wheelis/Documents/programming/red_wolf_detection/human_detection_dataset/1/126.png',\n",
       " '/Users/alex_wheelis/Documents/programming/red_wolf_detection/human_detection_dataset/1/132.png',\n",
       " '/Users/alex_wheelis/Documents/programming/red_wolf_detection/human_detection_dataset/1/27.png',\n",
       " '/Users/alex_wheelis/Documents/programming/red_wolf_detection/human_detection_dataset/1/33.png',\n",
       " '/Users/alex_wheelis/Documents/programming/red_wolf_detection/human_detection_dataset/1/536.png',\n",
       " '/Users/alex_wheelis/Documents/programming/red_wolf_detection/human_detection_dataset/1/250.png',\n",
       " '/Users/alex_wheelis/Documents/programming/red_wolf_detection/human_detection_dataset/1/244.png',\n",
       " '/Users/alex_wheelis/Documents/programming/red_wolf_detection/human_detection_dataset/1/522.png',\n",
       " '/Users/alex_wheelis/Documents/programming/red_wolf_detection/human_detection_dataset/1/278.png',\n",
       " '/Users/alex_wheelis/Documents/programming/red_wolf_detection/human_detection_dataset/1/293.png',\n",
       " '/Users/alex_wheelis/Documents/programming/red_wolf_detection/human_detection_dataset/1/287.png',\n",
       " '/Users/alex_wheelis/Documents/programming/red_wolf_detection/human_detection_dataset/1/286.png',\n",
       " '/Users/alex_wheelis/Documents/programming/red_wolf_detection/human_detection_dataset/1/292.png',\n",
       " '/Users/alex_wheelis/Documents/programming/red_wolf_detection/human_detection_dataset/1/279.png',\n",
       " '/Users/alex_wheelis/Documents/programming/red_wolf_detection/human_detection_dataset/1/245.png',\n",
       " '/Users/alex_wheelis/Documents/programming/red_wolf_detection/human_detection_dataset/1/523.png',\n",
       " '/Users/alex_wheelis/Documents/programming/red_wolf_detection/human_detection_dataset/1/537.png',\n",
       " '/Users/alex_wheelis/Documents/programming/red_wolf_detection/human_detection_dataset/1/251.png',\n",
       " '/Users/alex_wheelis/Documents/programming/red_wolf_detection/human_detection_dataset/1/32.png',\n",
       " '/Users/alex_wheelis/Documents/programming/red_wolf_detection/human_detection_dataset/1/26.png',\n",
       " '/Users/alex_wheelis/Documents/programming/red_wolf_detection/human_detection_dataset/1/133.png',\n",
       " '/Users/alex_wheelis/Documents/programming/red_wolf_detection/human_detection_dataset/1/127.png',\n",
       " '/Users/alex_wheelis/Documents/programming/red_wolf_detection/human_detection_dataset/1/494.png',\n",
       " '/Users/alex_wheelis/Documents/programming/red_wolf_detection/human_detection_dataset/1/480.png',\n",
       " '/Users/alex_wheelis/Documents/programming/red_wolf_detection/human_detection_dataset/1/319.png',\n",
       " '/Users/alex_wheelis/Documents/programming/red_wolf_detection/human_detection_dataset/1/331.png',\n",
       " '/Users/alex_wheelis/Documents/programming/red_wolf_detection/human_detection_dataset/1/457.png',\n",
       " '/Users/alex_wheelis/Documents/programming/red_wolf_detection/human_detection_dataset/1/443.png',\n",
       " '/Users/alex_wheelis/Documents/programming/red_wolf_detection/human_detection_dataset/1/325.png',\n",
       " '/Users/alex_wheelis/Documents/programming/red_wolf_detection/human_detection_dataset/1/455.png',\n",
       " '/Users/alex_wheelis/Documents/programming/red_wolf_detection/human_detection_dataset/1/333.png',\n",
       " '/Users/alex_wheelis/Documents/programming/red_wolf_detection/human_detection_dataset/1/327.png',\n",
       " '/Users/alex_wheelis/Documents/programming/red_wolf_detection/human_detection_dataset/1/441.png',\n",
       " '/Users/alex_wheelis/Documents/programming/red_wolf_detection/human_detection_dataset/1/469.png',\n",
       " '/Users/alex_wheelis/Documents/programming/red_wolf_detection/human_detection_dataset/1/496.png',\n",
       " '/Users/alex_wheelis/Documents/programming/red_wolf_detection/human_detection_dataset/1/482.png',\n",
       " '/Users/alex_wheelis/Documents/programming/red_wolf_detection/human_detection_dataset/1/131.png',\n",
       " '/Users/alex_wheelis/Documents/programming/red_wolf_detection/human_detection_dataset/1/125.png',\n",
       " '/Users/alex_wheelis/Documents/programming/red_wolf_detection/human_detection_dataset/1/119.png',\n",
       " '/Users/alex_wheelis/Documents/programming/red_wolf_detection/human_detection_dataset/1/18.png',\n",
       " '/Users/alex_wheelis/Documents/programming/red_wolf_detection/human_detection_dataset/1/30.png',\n",
       " '/Users/alex_wheelis/Documents/programming/red_wolf_detection/human_detection_dataset/1/24.png',\n",
       " '/Users/alex_wheelis/Documents/programming/red_wolf_detection/human_detection_dataset/1/521.png',\n",
       " '/Users/alex_wheelis/Documents/programming/red_wolf_detection/human_detection_dataset/1/247.png',\n",
       " '/Users/alex_wheelis/Documents/programming/red_wolf_detection/human_detection_dataset/1/253.png',\n",
       " '/Users/alex_wheelis/Documents/programming/red_wolf_detection/human_detection_dataset/1/535.png',\n",
       " '/Users/alex_wheelis/Documents/programming/red_wolf_detection/human_detection_dataset/1/509.png',\n",
       " '/Users/alex_wheelis/Documents/programming/red_wolf_detection/human_detection_dataset/1/284.png',\n",
       " '/Users/alex_wheelis/Documents/programming/red_wolf_detection/human_detection_dataset/1/290.png',\n",
       " '/Users/alex_wheelis/Documents/programming/red_wolf_detection/human_detection_dataset/1/291.png',\n",
       " '/Users/alex_wheelis/Documents/programming/red_wolf_detection/human_detection_dataset/1/285.png',\n",
       " '/Users/alex_wheelis/Documents/programming/red_wolf_detection/human_detection_dataset/1/508.png',\n",
       " '/Users/alex_wheelis/Documents/programming/red_wolf_detection/human_detection_dataset/1/252.png',\n",
       " '/Users/alex_wheelis/Documents/programming/red_wolf_detection/human_detection_dataset/1/534.png',\n",
       " '/Users/alex_wheelis/Documents/programming/red_wolf_detection/human_detection_dataset/1/520.png',\n",
       " '/Users/alex_wheelis/Documents/programming/red_wolf_detection/human_detection_dataset/1/246.png',\n",
       " '/Users/alex_wheelis/Documents/programming/red_wolf_detection/human_detection_dataset/1/25.png',\n",
       " '/Users/alex_wheelis/Documents/programming/red_wolf_detection/human_detection_dataset/1/31.png',\n",
       " '/Users/alex_wheelis/Documents/programming/red_wolf_detection/human_detection_dataset/1/19.png',\n",
       " '/Users/alex_wheelis/Documents/programming/red_wolf_detection/human_detection_dataset/1/118.png',\n",
       " '/Users/alex_wheelis/Documents/programming/red_wolf_detection/human_detection_dataset/1/124.png',\n",
       " '/Users/alex_wheelis/Documents/programming/red_wolf_detection/human_detection_dataset/1/130.png',\n",
       " '/Users/alex_wheelis/Documents/programming/red_wolf_detection/human_detection_dataset/1/483.png',\n",
       " '/Users/alex_wheelis/Documents/programming/red_wolf_detection/human_detection_dataset/1/497.png',\n",
       " '/Users/alex_wheelis/Documents/programming/red_wolf_detection/human_detection_dataset/1/468.png',\n",
       " '/Users/alex_wheelis/Documents/programming/red_wolf_detection/human_detection_dataset/1/326.png',\n",
       " '/Users/alex_wheelis/Documents/programming/red_wolf_detection/human_detection_dataset/1/440.png',\n",
       " '/Users/alex_wheelis/Documents/programming/red_wolf_detection/human_detection_dataset/1/454.png',\n",
       " '/Users/alex_wheelis/Documents/programming/red_wolf_detection/human_detection_dataset/1/332.png',\n",
       " '/Users/alex_wheelis/Documents/programming/red_wolf_detection/human_detection_dataset/1/369.png',\n",
       " '/Users/alex_wheelis/Documents/programming/red_wolf_detection/human_detection_dataset/1/433.png',\n",
       " '/Users/alex_wheelis/Documents/programming/red_wolf_detection/human_detection_dataset/1/355.png',\n",
       " '/Users/alex_wheelis/Documents/programming/red_wolf_detection/human_detection_dataset/1/341.png',\n",
       " '/Users/alex_wheelis/Documents/programming/red_wolf_detection/human_detection_dataset/1/427.png',\n",
       " '/Users/alex_wheelis/Documents/programming/red_wolf_detection/human_detection_dataset/1/396.png',\n",
       " '/Users/alex_wheelis/Documents/programming/red_wolf_detection/human_detection_dataset/1/382.png',\n",
       " '/Users/alex_wheelis/Documents/programming/red_wolf_detection/human_detection_dataset/1/95.png',\n",
       " '/Users/alex_wheelis/Documents/programming/red_wolf_detection/human_detection_dataset/1/81.png',\n",
       " '/Users/alex_wheelis/Documents/programming/red_wolf_detection/human_detection_dataset/1/157.png',\n",
       " '/Users/alex_wheelis/Documents/programming/red_wolf_detection/human_detection_dataset/1/143.png',\n",
       " '/Users/alex_wheelis/Documents/programming/red_wolf_detection/human_detection_dataset/1/4.png',\n",
       " '/Users/alex_wheelis/Documents/programming/red_wolf_detection/human_detection_dataset/1/56.png',\n",
       " '/Users/alex_wheelis/Documents/programming/red_wolf_detection/human_detection_dataset/1/42.png',\n",
       " '/Users/alex_wheelis/Documents/programming/red_wolf_detection/human_detection_dataset/1/194.png',\n",
       " '/Users/alex_wheelis/Documents/programming/red_wolf_detection/human_detection_dataset/1/180.png',\n",
       " '/Users/alex_wheelis/Documents/programming/red_wolf_detection/human_detection_dataset/1/209.png',\n",
       " '/Users/alex_wheelis/Documents/programming/red_wolf_detection/human_detection_dataset/1/547.png',\n",
       " '/Users/alex_wheelis/Documents/programming/red_wolf_detection/human_detection_dataset/1/221.png',\n",
       " '/Users/alex_wheelis/Documents/programming/red_wolf_detection/human_detection_dataset/1/235.png',\n",
       " '/Users/alex_wheelis/Documents/programming/red_wolf_detection/human_detection_dataset/1/553.png',\n",
       " '/Users/alex_wheelis/Documents/programming/red_wolf_detection/human_detection_dataset/1/234.png',\n",
       " '/Users/alex_wheelis/Documents/programming/red_wolf_detection/human_detection_dataset/1/552.png',\n",
       " '/Users/alex_wheelis/Documents/programming/red_wolf_detection/human_detection_dataset/1/546.png',\n",
       " '/Users/alex_wheelis/Documents/programming/red_wolf_detection/human_detection_dataset/1/220.png',\n",
       " '/Users/alex_wheelis/Documents/programming/red_wolf_detection/human_detection_dataset/1/208.png',\n",
       " '/Users/alex_wheelis/Documents/programming/red_wolf_detection/human_detection_dataset/1/181.png',\n",
       " '/Users/alex_wheelis/Documents/programming/red_wolf_detection/human_detection_dataset/1/195.png',\n",
       " '/Users/alex_wheelis/Documents/programming/red_wolf_detection/human_detection_dataset/1/43.png',\n",
       " '/Users/alex_wheelis/Documents/programming/red_wolf_detection/human_detection_dataset/1/5.png',\n",
       " '/Users/alex_wheelis/Documents/programming/red_wolf_detection/human_detection_dataset/1/57.png',\n",
       " '/Users/alex_wheelis/Documents/programming/red_wolf_detection/human_detection_dataset/1/142.png',\n",
       " '/Users/alex_wheelis/Documents/programming/red_wolf_detection/human_detection_dataset/1/156.png',\n",
       " '/Users/alex_wheelis/Documents/programming/red_wolf_detection/human_detection_dataset/1/80.png',\n",
       " '/Users/alex_wheelis/Documents/programming/red_wolf_detection/human_detection_dataset/1/94.png',\n",
       " '/Users/alex_wheelis/Documents/programming/red_wolf_detection/human_detection_dataset/1/383.png',\n",
       " '/Users/alex_wheelis/Documents/programming/red_wolf_detection/human_detection_dataset/1/397.png',\n",
       " '/Users/alex_wheelis/Documents/programming/red_wolf_detection/human_detection_dataset/1/340.png',\n",
       " '/Users/alex_wheelis/Documents/programming/red_wolf_detection/human_detection_dataset/1/426.png',\n",
       " '/Users/alex_wheelis/Documents/programming/red_wolf_detection/human_detection_dataset/1/432.png',\n",
       " '/Users/alex_wheelis/Documents/programming/red_wolf_detection/human_detection_dataset/1/354.png',\n",
       " '/Users/alex_wheelis/Documents/programming/red_wolf_detection/human_detection_dataset/1/368.png',\n",
       " '/Users/alex_wheelis/Documents/programming/red_wolf_detection/human_detection_dataset/1/418.png',\n",
       " '/Users/alex_wheelis/Documents/programming/red_wolf_detection/human_detection_dataset/1/424.png',\n",
       " '/Users/alex_wheelis/Documents/programming/red_wolf_detection/human_detection_dataset/1/342.png',\n",
       " '/Users/alex_wheelis/Documents/programming/red_wolf_detection/human_detection_dataset/1/356.png',\n",
       " '/Users/alex_wheelis/Documents/programming/red_wolf_detection/human_detection_dataset/1/430.png',\n",
       " '/Users/alex_wheelis/Documents/programming/red_wolf_detection/human_detection_dataset/1/381.png',\n",
       " '/Users/alex_wheelis/Documents/programming/red_wolf_detection/human_detection_dataset/1/395.png',\n",
       " '/Users/alex_wheelis/Documents/programming/red_wolf_detection/human_detection_dataset/1/82.png',\n",
       " '/Users/alex_wheelis/Documents/programming/red_wolf_detection/human_detection_dataset/1/96.png',\n",
       " '/Users/alex_wheelis/Documents/programming/red_wolf_detection/human_detection_dataset/1/168.png',\n",
       " '/Users/alex_wheelis/Documents/programming/red_wolf_detection/human_detection_dataset/1/140.png',\n",
       " '/Users/alex_wheelis/Documents/programming/red_wolf_detection/human_detection_dataset/1/154.png',\n",
       " '/Users/alex_wheelis/Documents/programming/red_wolf_detection/human_detection_dataset/1/41.png',\n",
       " '/Users/alex_wheelis/Documents/programming/red_wolf_detection/human_detection_dataset/1/55.png',\n",
       " '/Users/alex_wheelis/Documents/programming/red_wolf_detection/human_detection_dataset/1/7.png',\n",
       " '/Users/alex_wheelis/Documents/programming/red_wolf_detection/human_detection_dataset/1/183.png',\n",
       " '/Users/alex_wheelis/Documents/programming/red_wolf_detection/human_detection_dataset/1/69.png',\n",
       " '/Users/alex_wheelis/Documents/programming/red_wolf_detection/human_detection_dataset/1/197.png',\n",
       " '/Users/alex_wheelis/Documents/programming/red_wolf_detection/human_detection_dataset/1/550.png',\n",
       " '/Users/alex_wheelis/Documents/programming/red_wolf_detection/human_detection_dataset/1/236.png',\n",
       " '/Users/alex_wheelis/Documents/programming/red_wolf_detection/human_detection_dataset/1/222.png',\n",
       " '/Users/alex_wheelis/Documents/programming/red_wolf_detection/human_detection_dataset/1/544.png',\n",
       " '/Users/alex_wheelis/Documents/programming/red_wolf_detection/human_detection_dataset/1/223.png',\n",
       " '/Users/alex_wheelis/Documents/programming/red_wolf_detection/human_detection_dataset/1/545.png',\n",
       " '/Users/alex_wheelis/Documents/programming/red_wolf_detection/human_detection_dataset/1/551.png',\n",
       " '/Users/alex_wheelis/Documents/programming/red_wolf_detection/human_detection_dataset/1/237.png',\n",
       " '/Users/alex_wheelis/Documents/programming/red_wolf_detection/human_detection_dataset/1/68.png',\n",
       " '/Users/alex_wheelis/Documents/programming/red_wolf_detection/human_detection_dataset/1/196.png',\n",
       " '/Users/alex_wheelis/Documents/programming/red_wolf_detection/human_detection_dataset/1/182.png',\n",
       " '/Users/alex_wheelis/Documents/programming/red_wolf_detection/human_detection_dataset/1/54.png',\n",
       " '/Users/alex_wheelis/Documents/programming/red_wolf_detection/human_detection_dataset/1/6.png',\n",
       " '/Users/alex_wheelis/Documents/programming/red_wolf_detection/human_detection_dataset/1/40.png',\n",
       " '/Users/alex_wheelis/Documents/programming/red_wolf_detection/human_detection_dataset/1/155.png',\n",
       " '/Users/alex_wheelis/Documents/programming/red_wolf_detection/human_detection_dataset/1/141.png',\n",
       " '/Users/alex_wheelis/Documents/programming/red_wolf_detection/human_detection_dataset/1/97.png',\n",
       " '/Users/alex_wheelis/Documents/programming/red_wolf_detection/human_detection_dataset/1/169.png',\n",
       " '/Users/alex_wheelis/Documents/programming/red_wolf_detection/human_detection_dataset/1/83.png',\n",
       " '/Users/alex_wheelis/Documents/programming/red_wolf_detection/human_detection_dataset/1/394.png',\n",
       " '/Users/alex_wheelis/Documents/programming/red_wolf_detection/human_detection_dataset/1/380.png',\n",
       " '/Users/alex_wheelis/Documents/programming/red_wolf_detection/human_detection_dataset/1/357.png',\n",
       " '/Users/alex_wheelis/Documents/programming/red_wolf_detection/human_detection_dataset/1/431.png',\n",
       " '/Users/alex_wheelis/Documents/programming/red_wolf_detection/human_detection_dataset/1/425.png',\n",
       " '/Users/alex_wheelis/Documents/programming/red_wolf_detection/human_detection_dataset/1/343.png',\n",
       " '/Users/alex_wheelis/Documents/programming/red_wolf_detection/human_detection_dataset/1/419.png',\n",
       " '/Users/alex_wheelis/Documents/programming/red_wolf_detection/human_detection_dataset/1/347.png',\n",
       " '/Users/alex_wheelis/Documents/programming/red_wolf_detection/human_detection_dataset/1/421.png',\n",
       " '/Users/alex_wheelis/Documents/programming/red_wolf_detection/human_detection_dataset/1/435.png',\n",
       " '/Users/alex_wheelis/Documents/programming/red_wolf_detection/human_detection_dataset/1/353.png',\n",
       " '/Users/alex_wheelis/Documents/programming/red_wolf_detection/human_detection_dataset/1/409.png',\n",
       " '/Users/alex_wheelis/Documents/programming/red_wolf_detection/human_detection_dataset/1/384.png',\n",
       " '/Users/alex_wheelis/Documents/programming/red_wolf_detection/human_detection_dataset/1/390.png',\n",
       " '/Users/alex_wheelis/Documents/programming/red_wolf_detection/human_detection_dataset/1/145.png',\n",
       " '/Users/alex_wheelis/Documents/programming/red_wolf_detection/human_detection_dataset/1/151.png',\n",
       " '/Users/alex_wheelis/Documents/programming/red_wolf_detection/human_detection_dataset/1/87.png',\n",
       " '/Users/alex_wheelis/Documents/programming/red_wolf_detection/human_detection_dataset/1/179.png',\n",
       " '/Users/alex_wheelis/Documents/programming/red_wolf_detection/human_detection_dataset/1/93.png',\n",
       " '/Users/alex_wheelis/Documents/programming/red_wolf_detection/human_detection_dataset/1/78.png',\n",
       " '/Users/alex_wheelis/Documents/programming/red_wolf_detection/human_detection_dataset/1/186.png',\n",
       " '/Users/alex_wheelis/Documents/programming/red_wolf_detection/human_detection_dataset/1/192.png',\n",
       " '/Users/alex_wheelis/Documents/programming/red_wolf_detection/human_detection_dataset/1/44.png',\n",
       " '/Users/alex_wheelis/Documents/programming/red_wolf_detection/human_detection_dataset/1/2.png',\n",
       " '/Users/alex_wheelis/Documents/programming/red_wolf_detection/human_detection_dataset/1/50.png',\n",
       " '/Users/alex_wheelis/Documents/programming/red_wolf_detection/human_detection_dataset/1/233.png',\n",
       " '/Users/alex_wheelis/Documents/programming/red_wolf_detection/human_detection_dataset/1/555.png',\n",
       " '/Users/alex_wheelis/Documents/programming/red_wolf_detection/human_detection_dataset/1/541.png',\n",
       " '/Users/alex_wheelis/Documents/programming/red_wolf_detection/human_detection_dataset/1/227.png',\n",
       " '/Users/alex_wheelis/Documents/programming/red_wolf_detection/human_detection_dataset/1/540.png',\n",
       " '/Users/alex_wheelis/Documents/programming/red_wolf_detection/human_detection_dataset/1/226.png',\n",
       " '/Users/alex_wheelis/Documents/programming/red_wolf_detection/human_detection_dataset/1/232.png',\n",
       " '/Users/alex_wheelis/Documents/programming/red_wolf_detection/human_detection_dataset/1/554.png',\n",
       " '/Users/alex_wheelis/Documents/programming/red_wolf_detection/human_detection_dataset/1/3.png',\n",
       " '/Users/alex_wheelis/Documents/programming/red_wolf_detection/human_detection_dataset/1/51.png',\n",
       " '/Users/alex_wheelis/Documents/programming/red_wolf_detection/human_detection_dataset/1/45.png',\n",
       " '/Users/alex_wheelis/Documents/programming/red_wolf_detection/human_detection_dataset/1/193.png',\n",
       " '/Users/alex_wheelis/Documents/programming/red_wolf_detection/human_detection_dataset/1/79.png',\n",
       " '/Users/alex_wheelis/Documents/programming/red_wolf_detection/human_detection_dataset/1/187.png',\n",
       " '/Users/alex_wheelis/Documents/programming/red_wolf_detection/human_detection_dataset/1/92.png',\n",
       " '/Users/alex_wheelis/Documents/programming/red_wolf_detection/human_detection_dataset/1/86.png',\n",
       " '/Users/alex_wheelis/Documents/programming/red_wolf_detection/human_detection_dataset/1/178.png',\n",
       " '/Users/alex_wheelis/Documents/programming/red_wolf_detection/human_detection_dataset/1/150.png',\n",
       " '/Users/alex_wheelis/Documents/programming/red_wolf_detection/human_detection_dataset/1/144.png',\n",
       " '/Users/alex_wheelis/Documents/programming/red_wolf_detection/human_detection_dataset/1/391.png',\n",
       " '/Users/alex_wheelis/Documents/programming/red_wolf_detection/human_detection_dataset/1/385.png',\n",
       " '/Users/alex_wheelis/Documents/programming/red_wolf_detection/human_detection_dataset/1/408.png',\n",
       " '/Users/alex_wheelis/Documents/programming/red_wolf_detection/human_detection_dataset/1/434.png',\n",
       " '/Users/alex_wheelis/Documents/programming/red_wolf_detection/human_detection_dataset/1/352.png',\n",
       " '/Users/alex_wheelis/Documents/programming/red_wolf_detection/human_detection_dataset/1/346.png',\n",
       " '/Users/alex_wheelis/Documents/programming/red_wolf_detection/human_detection_dataset/1/420.png',\n",
       " '/Users/alex_wheelis/Documents/programming/red_wolf_detection/human_detection_dataset/1/350.png',\n",
       " '/Users/alex_wheelis/Documents/programming/red_wolf_detection/human_detection_dataset/1/436.png',\n",
       " '/Users/alex_wheelis/Documents/programming/red_wolf_detection/human_detection_dataset/1/422.png',\n",
       " '/Users/alex_wheelis/Documents/programming/red_wolf_detection/human_detection_dataset/1/344.png',\n",
       " '/Users/alex_wheelis/Documents/programming/red_wolf_detection/human_detection_dataset/1/378.png',\n",
       " '/Users/alex_wheelis/Documents/programming/red_wolf_detection/human_detection_dataset/1/393.png',\n",
       " '/Users/alex_wheelis/Documents/programming/red_wolf_detection/human_detection_dataset/1/387.png',\n",
       " '/Users/alex_wheelis/Documents/programming/red_wolf_detection/human_detection_dataset/1/152.png',\n",
       " '/Users/alex_wheelis/Documents/programming/red_wolf_detection/human_detection_dataset/1/146.png',\n",
       " '/Users/alex_wheelis/Documents/programming/red_wolf_detection/human_detection_dataset/1/90.png',\n",
       " '/Users/alex_wheelis/Documents/programming/red_wolf_detection/human_detection_dataset/1/84.png',\n",
       " '/Users/alex_wheelis/Documents/programming/red_wolf_detection/human_detection_dataset/1/191.png',\n",
       " '/Users/alex_wheelis/Documents/programming/red_wolf_detection/human_detection_dataset/1/185.png',\n",
       " '/Users/alex_wheelis/Documents/programming/red_wolf_detection/human_detection_dataset/1/53.png',\n",
       " '/Users/alex_wheelis/Documents/programming/red_wolf_detection/human_detection_dataset/1/1.png',\n",
       " '/Users/alex_wheelis/Documents/programming/red_wolf_detection/human_detection_dataset/1/47.png',\n",
       " '/Users/alex_wheelis/Documents/programming/red_wolf_detection/human_detection_dataset/1/224.png',\n",
       " '/Users/alex_wheelis/Documents/programming/red_wolf_detection/human_detection_dataset/1/542.png',\n",
       " '/Users/alex_wheelis/Documents/programming/red_wolf_detection/human_detection_dataset/1/556.png',\n",
       " '/Users/alex_wheelis/Documents/programming/red_wolf_detection/human_detection_dataset/1/230.png',\n",
       " '/Users/alex_wheelis/Documents/programming/red_wolf_detection/human_detection_dataset/1/218.png',\n",
       " '/Users/alex_wheelis/Documents/programming/red_wolf_detection/human_detection_dataset/1/219.png',\n",
       " '/Users/alex_wheelis/Documents/programming/red_wolf_detection/human_detection_dataset/1/557.png',\n",
       " '/Users/alex_wheelis/Documents/programming/red_wolf_detection/human_detection_dataset/1/231.png',\n",
       " '/Users/alex_wheelis/Documents/programming/red_wolf_detection/human_detection_dataset/1/225.png',\n",
       " '/Users/alex_wheelis/Documents/programming/red_wolf_detection/human_detection_dataset/1/543.png',\n",
       " '/Users/alex_wheelis/Documents/programming/red_wolf_detection/human_detection_dataset/1/46.png',\n",
       " '/Users/alex_wheelis/Documents/programming/red_wolf_detection/human_detection_dataset/1/52.png',\n",
       " '/Users/alex_wheelis/Documents/programming/red_wolf_detection/human_detection_dataset/1/0.png',\n",
       " '/Users/alex_wheelis/Documents/programming/red_wolf_detection/human_detection_dataset/1/184.png',\n",
       " '/Users/alex_wheelis/Documents/programming/red_wolf_detection/human_detection_dataset/1/190.png',\n",
       " '/Users/alex_wheelis/Documents/programming/red_wolf_detection/human_detection_dataset/1/85.png',\n",
       " '/Users/alex_wheelis/Documents/programming/red_wolf_detection/human_detection_dataset/1/91.png',\n",
       " '/Users/alex_wheelis/Documents/programming/red_wolf_detection/human_detection_dataset/1/147.png',\n",
       " '/Users/alex_wheelis/Documents/programming/red_wolf_detection/human_detection_dataset/1/153.png',\n",
       " '/Users/alex_wheelis/Documents/programming/red_wolf_detection/human_detection_dataset/1/386.png',\n",
       " '/Users/alex_wheelis/Documents/programming/red_wolf_detection/human_detection_dataset/1/392.png',\n",
       " '/Users/alex_wheelis/Documents/programming/red_wolf_detection/human_detection_dataset/1/379.png',\n",
       " '/Users/alex_wheelis/Documents/programming/red_wolf_detection/human_detection_dataset/1/423.png',\n",
       " '/Users/alex_wheelis/Documents/programming/red_wolf_detection/human_detection_dataset/1/345.png',\n",
       " '/Users/alex_wheelis/Documents/programming/red_wolf_detection/human_detection_dataset/1/351.png',\n",
       " '/Users/alex_wheelis/Documents/programming/red_wolf_detection/human_detection_dataset/1/437.png']"
      ]
     },
     "execution_count": 8,
     "metadata": {},
     "output_type": "execute_result"
    }
   ],
   "source": [
    "human_dataset"
   ]
  },
  {
   "cell_type": "code",
   "execution_count": null,
   "id": "a647fc89-75fb-4b08-ba4f-7e425f16be20",
   "metadata": {},
   "outputs": [],
   "source": []
  }
 ],
 "metadata": {
  "kernelspec": {
   "display_name": "Python 3",
   "language": "python",
   "name": "python3"
  },
  "language_info": {
   "codemirror_mode": {
    "name": "ipython",
    "version": 3
   },
   "file_extension": ".py",
   "mimetype": "text/x-python",
   "name": "python",
   "nbconvert_exporter": "python",
   "pygments_lexer": "ipython3",
   "version": "3.8.8"
  }
 },
 "nbformat": 4,
 "nbformat_minor": 5
}
