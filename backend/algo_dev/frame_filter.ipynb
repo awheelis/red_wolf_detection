{
 "cells": [
  {
   "cell_type": "code",
   "execution_count": 1,
   "id": "58b4e681-f333-428e-9dab-2ffa05f18c0c",
   "metadata": {},
   "outputs": [],
   "source": [
    "import numpy as np\n",
    "import matplotlib.pyplot as plt\n",
    "import cv2\n",
    "import os\n",
    "from glob import glob\n",
    "from scipy.signal import medfilt\n",
    "\n",
    "import sys\n",
    "sys.path.append(\"/Users/alex_wheelis/Documents/programming/red_wolf_detection/backend/algo_dev\")\n",
    "from misc import *"
   ]
  },
  {
   "cell_type": "code",
   "execution_count": 2,
   "id": "372a1352-5348-4b8f-8f58-86238fb9628e",
   "metadata": {},
   "outputs": [
    {
     "data": {
      "text/plain": [
       "'\\nNOTE: \\nthe window size (ws) of 12 still does not get rid of trees blowing in the wind. \\nThere is still the problem concerning the cyclical noise in the activation array. \\n\\ntrees blowing soln ides: \\n - filter\\n - smooth\\n - suck it up and deal with it later\\n - later we could use peaks in the image to id points and maybe blobs\\n --- we could then check to see if those blobs are wolves or not\\n \\ncyclical noise soln idea: \\n - change window size to see if that affects activation arr\\n - suck it up \\n - model the noise over time. Try to figure out what that signal is\\n --- and then filter that noise out. Maybe get different frequencies \\n --- over time \\n\\n'"
      ]
     },
     "execution_count": 2,
     "metadata": {},
     "output_type": "execute_result"
    }
   ],
   "source": [
    "\"\"\"\n",
    "NOTE: \n",
    "the window size (ws) of 12 still does not get rid of trees blowing in the wind. \n",
    "There is still the problem concerning the cyclical noise in the activation array. \n",
    "\n",
    "trees blowing soln ides: \n",
    " - filter\n",
    " - smooth\n",
    " - suck it up and deal with it later\n",
    " - later we could use peaks in the image to id points and maybe blobs\n",
    " --- we could then check to see if those blobs are wolves or not\n",
    " \n",
    "cyclical noise soln idea: \n",
    " - change window size to see if that affects activation arr\n",
    " - suck it up \n",
    " - model the noise over time. Try to figure out what that signal is\n",
    " --- and then filter that noise out. Maybe get different frequencies \n",
    " --- over time \n",
    "\n",
    "\"\"\""
   ]
  },
  {
   "cell_type": "code",
   "execution_count": 3,
   "id": "cd805dbc-98f7-4f97-bea7-742234173b43",
   "metadata": {},
   "outputs": [],
   "source": [
    "# the window size (ws) has been determined from experimental analysis\n",
    "# the ws corresponds to the number of frames needed to create an effective\n",
    "# std dev frame. Given a 12 frames, taking the std of these gives a useful \n",
    "# output that can be used for wolf detection\n",
    "WINDOW_SIZE = 12"
   ]
  },
  {
   "cell_type": "code",
   "execution_count": null,
   "id": "ea62c928-c437-4d1a-bde2-2e95077f1daa",
   "metadata": {},
   "outputs": [],
   "source": []
  },
  {
   "cell_type": "code",
   "execution_count": null,
   "id": "de208751-9994-460b-96cd-3f195a20ba16",
   "metadata": {},
   "outputs": [],
   "source": []
  },
  {
   "cell_type": "code",
   "execution_count": 7,
   "id": "2e8417a7-c87e-4534-813a-53f0fd612166",
   "metadata": {},
   "outputs": [],
   "source": [
    "wolf_dir = \"/Users/alex_wheelis/Documents/Fall2022/ECE 484/DCIM/100_BTCF\"\n",
    "\n",
    "wolf_vid_fs = glob(wolf_dir + \"/*\")\n"
   ]
  },
  {
   "cell_type": "code",
   "execution_count": 7,
   "id": "c3949b88-b154-4004-9a38-6fcb82446673",
   "metadata": {},
   "outputs": [],
   "source": [
    "\n",
    "random_idx = np.random.randint(0,200)\n",
    "test_vid_f = wolf_vid_fs[random_idx]\n",
    "\n",
    "print(test_vid_f)\n",
    "\n",
    "vid = load_video(test_vid_f, frames = 300)\n",
    "\n",
    "vid = decrease_res_by_x(vid, int(vid.shape[2]/4), int(vid.shape[1]/4))\n",
    "vid = vid.astype(np.int16)"
   ]
  },
  {
   "cell_type": "code",
   "execution_count": 9,
   "id": "fe3b8de6-5cef-447b-abf6-2e7447982db1",
   "metadata": {},
   "outputs": [
    {
     "data": {
      "text/plain": [
       "3599"
      ]
     },
     "execution_count": 9,
     "metadata": {},
     "output_type": "execute_result"
    }
   ],
   "source": [
    "count"
   ]
  },
  {
   "cell_type": "code",
   "execution_count": null,
   "id": "257a03ed-2b7c-4e39-8d7a-cc8d10a176ce",
   "metadata": {},
   "outputs": [],
   "source": []
  },
  {
   "cell_type": "code",
   "execution_count": null,
   "id": "d7acb283-99ac-4c64-b61c-dc04c399a476",
   "metadata": {},
   "outputs": [],
   "source": []
  },
  {
   "cell_type": "code",
   "execution_count": 11,
   "id": "9725a3f6-e9b5-4094-aab6-7612aec00755",
   "metadata": {},
   "outputs": [
    {
     "ename": "AttributeError",
     "evalue": "'str' object has no attribute 'shape'",
     "output_type": "error",
     "traceback": [
      "\u001b[0;31m---------------------------------------------------------------------------\u001b[0m",
      "\u001b[0;31mAttributeError\u001b[0m                            Traceback (most recent call last)",
      "\u001b[0;32m<ipython-input-11-5ed10e91e882>\u001b[0m in \u001b[0;36m<module>\u001b[0;34m\u001b[0m\n\u001b[0;32m----> 1\u001b[0;31m \u001b[0mdiff_activation\u001b[0m \u001b[0;34m=\u001b[0m \u001b[0mnp\u001b[0m\u001b[0;34m.\u001b[0m\u001b[0mzeros\u001b[0m\u001b[0;34m(\u001b[0m\u001b[0mvid\u001b[0m\u001b[0;34m.\u001b[0m\u001b[0mshape\u001b[0m\u001b[0;34m[\u001b[0m\u001b[0;36m0\u001b[0m\u001b[0;34m]\u001b[0m\u001b[0;34m,\u001b[0m \u001b[0mdtype\u001b[0m \u001b[0;34m=\u001b[0m \u001b[0mnp\u001b[0m\u001b[0;34m.\u001b[0m\u001b[0mfloat16\u001b[0m\u001b[0;34m)\u001b[0m\u001b[0;34m\u001b[0m\u001b[0;34m\u001b[0m\u001b[0m\n\u001b[0m\u001b[1;32m      2\u001b[0m \u001b[0;31m# difference frame implementation\u001b[0m\u001b[0;34m\u001b[0m\u001b[0;34m\u001b[0m\u001b[0;34m\u001b[0m\u001b[0m\n\u001b[1;32m      3\u001b[0m \u001b[0mdiff_v\u001b[0m \u001b[0;34m=\u001b[0m \u001b[0mnp\u001b[0m\u001b[0;34m.\u001b[0m\u001b[0mzeros\u001b[0m\u001b[0;34m(\u001b[0m\u001b[0mvid\u001b[0m\u001b[0;34m.\u001b[0m\u001b[0mshape\u001b[0m\u001b[0;34m,\u001b[0m \u001b[0mdtype\u001b[0m \u001b[0;34m=\u001b[0m \u001b[0mnp\u001b[0m\u001b[0;34m.\u001b[0m\u001b[0mfloat16\u001b[0m\u001b[0;34m)\u001b[0m\u001b[0;34m\u001b[0m\u001b[0;34m\u001b[0m\u001b[0m\n\u001b[1;32m      4\u001b[0m \u001b[0;34m\u001b[0m\u001b[0m\n\u001b[1;32m      5\u001b[0m \u001b[0;32mfor\u001b[0m \u001b[0mi\u001b[0m \u001b[0;32min\u001b[0m \u001b[0mrange\u001b[0m\u001b[0;34m(\u001b[0m\u001b[0;36m1\u001b[0m\u001b[0;34m,\u001b[0m \u001b[0mvid\u001b[0m\u001b[0;34m.\u001b[0m\u001b[0mshape\u001b[0m\u001b[0;34m[\u001b[0m\u001b[0;36m0\u001b[0m\u001b[0;34m]\u001b[0m\u001b[0;34m)\u001b[0m\u001b[0;34m:\u001b[0m\u001b[0;34m\u001b[0m\u001b[0;34m\u001b[0m\u001b[0m\n",
      "\u001b[0;31mAttributeError\u001b[0m: 'str' object has no attribute 'shape'"
     ]
    }
   ],
   "source": [
    "diff_activation = np.zeros(vid.shape[0], dtype = np.float16)\n",
    "# difference frame implementation\n",
    "diff_v = np.zeros(vid.shape, dtype = np.float16)\n",
    "\n",
    "for i in range(1, vid.shape[0]):\n",
    "    f1 = vid[i, ...].astype(np.float16)\n",
    "    f0 = vid[i-1, ...].astype(np.float16)\n",
    "    diff_f = f1-f0\n",
    "    av_diff = np.absolute(diff_f)\n",
    "    frame_activation = np.sum(av_diff/255)#(vid.shape[1]*vid.shape[2]*255)\n",
    "#     if frame_activation < 800:\n",
    "    diff_activation[i] = frame_activation\n",
    "    diff_v[i] = av_diff\n",
    "\n",
    "    \n",
    "    "
   ]
  },
  {
   "cell_type": "code",
   "execution_count": 126,
   "id": "11216d76-6ec7-4d66-906c-1d949589294f",
   "metadata": {},
   "outputs": [
    {
     "data": {
      "text/plain": [
       "array([[2., 0., 0., ..., 2., 1., 1.],\n",
       "       [2., 0., 1., ..., 1., 6., 1.],\n",
       "       [0., 2., 0., ..., 4., 1., 2.],\n",
       "       ...,\n",
       "       [0., 0., 0., ..., 0., 0., 0.],\n",
       "       [0., 0., 0., ..., 0., 0., 0.],\n",
       "       [0., 0., 0., ..., 0., 0., 0.]], dtype=float16)"
      ]
     },
     "execution_count": 126,
     "metadata": {},
     "output_type": "execute_result"
    }
   ],
   "source": [
    "av_diff"
   ]
  },
  {
   "cell_type": "code",
   "execution_count": 127,
   "id": "6d281e21-5f4f-4873-8e74-e6f1ef5c9ad9",
   "metadata": {},
   "outputs": [
    {
     "data": {
      "image/png": "[encoded data removed]",
      "text/plain": [
       "<Figure size 432x288 with 1 Axes>"
      ]
     },
     "metadata": {
      "needs_background": "light"
     },
     "output_type": "display_data"
    }
   ],
   "source": [
    "plt.plot(diff_activation)\n",
    "plt.show()"
   ]
  },
  {
   "cell_type": "code",
   "execution_count": null,
   "id": "1d03e688-398a-4f56-81b2-8732a7d779cd",
   "metadata": {},
   "outputs": [],
   "source": []
  },
  {
   "cell_type": "code",
   "execution_count": 10,
   "id": "505342c5-4120-4b00-a794-6afd5236bb90",
   "metadata": {},
   "outputs": [
    {
     "ename": "NameError",
     "evalue": "name 'diff_v' is not defined",
     "output_type": "error",
     "traceback": [
      "\u001b[0;31m---------------------------------------------------------------------------\u001b[0m",
      "\u001b[0;31mNameError\u001b[0m                                 Traceback (most recent call last)",
      "\u001b[0;32m<ipython-input-10-e1031ceb9911>\u001b[0m in \u001b[0;36m<module>\u001b[0;34m\u001b[0m\n\u001b[0;32m----> 1\u001b[0;31m \u001b[0mtime_col\u001b[0m \u001b[0;34m=\u001b[0m \u001b[0mdiff_v\u001b[0m\u001b[0;34m[\u001b[0m\u001b[0;34m...\u001b[0m\u001b[0;34m,\u001b[0m \u001b[0;36m135\u001b[0m\u001b[0;34m,\u001b[0m \u001b[0;36m240\u001b[0m\u001b[0;34m]\u001b[0m\u001b[0;34m\u001b[0m\u001b[0;34m\u001b[0m\u001b[0m\n\u001b[0m",
      "\u001b[0;31mNameError\u001b[0m: name 'diff_v' is not defined"
     ]
    }
   ],
   "source": [
    "time_col = diff_v[..., 135, 240]"
   ]
  },
  {
   "cell_type": "code",
   "execution_count": 162,
   "id": "1441c6c2-7d0e-451e-aee9-42a8a17aa8b5",
   "metadata": {},
   "outputs": [
    {
     "data": {
      "text/plain": [
       "(300,)"
      ]
     },
     "execution_count": 162,
     "metadata": {},
     "output_type": "execute_result"
    }
   ],
   "source": [
    "time_col.shape"
   ]
  },
  {
   "cell_type": "code",
   "execution_count": 147,
   "id": "e97f0b27-2bc5-4bb4-ac07-02b84b100e04",
   "metadata": {},
   "outputs": [
    {
     "data": {
      "text/plain": [
       "[<matplotlib.lines.Line2D at 0x7fca08117f70>]"
      ]
     },
     "execution_count": 147,
     "metadata": {},
     "output_type": "execute_result"
    },
    {
     "data": {
      "image/png": "[encoded data removed]",
      "text/plain": [
       "<Figure size 432x288 with 1 Axes>"
      ]
     },
     "metadata": {
      "needs_background": "light"
     },
     "output_type": "display_data"
    }
   ],
   "source": [
    "plt.plot(time_col)"
   ]
  },
  {
   "cell_type": "code",
   "execution_count": 182,
   "id": "47b30d08-87e8-40be-ac02-5249d0715d39",
   "metadata": {},
   "outputs": [],
   "source": [
    "t = np.linspace(0, 299)/60 #% Time vector\n",
    "x = time_col #% Sample values vector\n",
    "\n",
    "# % Create a couple of variables\n",
    "Ts = t[1] - t[0]; #% Calculate the sampling period\n",
    "fs = 1/Ts; #% Calculate the sampling frequency\n",
    "fVec = np.linspace(0, fs, num=300) #% Create the frequency vector"
   ]
  },
  {
   "cell_type": "code",
   "execution_count": null,
   "id": "e2370b6d-8e54-4bd0-b92f-2fba1e3916b7",
   "metadata": {},
   "outputs": [],
   "source": []
  },
  {
   "cell_type": "code",
   "execution_count": 11,
   "id": "76d43853-d220-4531-911c-a2c6e1625df3",
   "metadata": {},
   "outputs": [],
   "source": [
    "# # % Calculate the frequency representation of the signal Vector\n",
    "# X = np.fft.fft(x);\n",
    "\n",
    "# # % Plot the magnitude spectrum (some alternatives)\n",
    "# plt.plot(fVec, np.abs(X))#%; grid on;\n",
    "# plt.xlabel(\"Frequency (Hz)\")\n",
    "# plt.ylabel(\"Amplitude (a.u.)\")\n",
    "# plt.title(\"2-Sided Magnitude - Linear Frequency Axis\")"
   ]
  },
  {
   "cell_type": "code",
   "execution_count": 10,
   "id": "baf48982-6219-4dc4-8576-fa84c2b04280",
   "metadata": {
    "tags": []
   },
   "outputs": [],
   "source": [
    "# # get rid of noise with high pass filter\n",
    "\n",
    "# act_fft = np.fft.fft(diff_activation)\n",
    "# act_fft_abs = np.abs(act_fft)\n",
    "\n",
    "# act_min = np.min(act_fft_abs)\n",
    "# act_max = np.max(act_fft_abs)\n",
    "\n",
    "# highpass = act_fft.copy()\n",
    "# lowpass = act_fft.copy()\n",
    "\n",
    "# # these numbers are ARBITRARY please help!!!\n",
    "# lowpass[act_fft_abs > act_min*1.5] = 0\n",
    "# # .04 works\n",
    "# highpass[act_fft_abs < act_max * .001] = 0\n",
    "\n",
    "\n",
    "# new_act = np.fft.ifft(lowpass)\n",
    "\n",
    "# new_act = linear_normalization(np.abs(new_act))\n",
    "\n",
    "# plt.plot(new_act)\n",
    "# plt.show()\n",
    "# plt.plot(diff_activation)\n",
    "# plt.show()"
   ]
  },
  {
   "cell_type": "code",
   "execution_count": 136,
   "id": "800043c6-858a-4854-8b2b-0c8a4242c5a1",
   "metadata": {},
   "outputs": [
    {
     "name": "stdout",
     "output_type": "stream",
     "text": [
      "/Users/alex_wheelis/Documents/programming/red_wolf_detection/backend/algo_dev/video/is_wolf.mp4\n"
     ]
    }
   ],
   "source": [
    "save_video_w_mvmt_annotations(vid, new_act, \"is_wolf\")"
   ]
  },
  {
   "cell_type": "code",
   "execution_count": null,
   "id": "9dfd57a8-c1ce-4fdb-8b38-5565c7635221",
   "metadata": {},
   "outputs": [],
   "source": []
  },
  {
   "cell_type": "code",
   "execution_count": null,
   "id": "2aca58d5-f838-441f-a2a2-758f32d3519d",
   "metadata": {},
   "outputs": [],
   "source": []
  },
  {
   "cell_type": "code",
   "execution_count": null,
   "id": "c50abd00-2614-464b-98e9-32be37f217fa",
   "metadata": {},
   "outputs": [],
   "source": []
  },
  {
   "cell_type": "code",
   "execution_count": null,
   "id": "e20f2b6b-7bc2-45cf-8afe-fd0f9acea464",
   "metadata": {},
   "outputs": [],
   "source": []
  },
  {
   "cell_type": "code",
   "execution_count": 37,
   "id": "60835cdb-a0e7-4a3f-9044-425ba8efa872",
   "metadata": {},
   "outputs": [],
   "source": [
    "def create_std_vid(vid, f_name = None, window_size = WINDOW_SIZE):\n",
    "#     pdb.set_trace()\n",
    "    # window size\n",
    "    ws = window_size\n",
    "    # the last and first frame will be copied \n",
    "\n",
    "    # pad the video \n",
    "    padded_video = np.zeros(((vid.shape[0] - 4 + 2 * ws), vid.shape[1], vid.shape[2]),\\\n",
    "                            dtype = np.int16)\n",
    "\n",
    "    # fill the padded video \n",
    "    padded_video[(ws-2) : vid.shape[0] + (ws-2), ...] = vid.copy()\n",
    "\n",
    "    # copy last two frames\n",
    "    padded_video[:(ws-2)] = vid[0].copy()\n",
    "    padded_video[vid.shape[0] + (ws-2):, ...] = vid[-1].copy()\n",
    "\n",
    "    # std dev video \n",
    "    std_v = np.zeros(vid.shape, dtype = np.int16)\n",
    "    for i in range(0, std_v.shape[0]):\n",
    "        std_frame = np.std(padded_video[i:i+ws], axis = 0)\n",
    "        std_v[i] = std_frame.copy()\n",
    "\n",
    "\n",
    "\n",
    "    #     diff_v[i] = np.abs(diff_f)\n",
    "    #     diff_activation[i] = np.sum(diff_v[i])\n",
    "    \n",
    "    # normalize std_vid to 0-255 values\n",
    "    std_v = std_v/np.max(std_v)\n",
    "    std_v = std_v * 255 \n",
    "    \n",
    "    # anything less than 100 is 0\n",
    "#     std_v[std_v < 100] = 0\n",
    "    \n",
    "    if f_name:\n",
    "        save_video(std_v,f_name, fps = 60)\n",
    "        \n",
    "    return std_v"
   ]
  },
  {
   "cell_type": "code",
   "execution_count": 47,
   "id": "f0a8a8c7-0bb7-4672-981a-2b3e751f2f35",
   "metadata": {},
   "outputs": [],
   "source": [
    "def get_activation_in_frames(vid_arr):\n",
    "    # sum colors for each frame\n",
    "#     pdb.set_trace()\n",
    "    vid_arr = vid_arr/np.max(vid_arr)\n",
    "    activation_arr = np.zeros(vid_arr.shape[0])\n",
    "    \n",
    "    sparsity_arr = np.zeros(vid_arr.shape[0])\n",
    "\n",
    "    # memory constant\n",
    "    mem_lambda = .3\n",
    "    \n",
    "    # moving average sum\n",
    "    mv_sum = 0\n",
    "    \n",
    "    frame_area = (vid_arr.shape[1]*vid_arr.shape[2])\n",
    "    \n",
    "    for i, frame in enumerate(vid_arr):\n",
    "        frame = vid_arr[i]\n",
    "        # get activation in frame\n",
    "        frame_activation = np.sum(frame)/frame_area\n",
    "        # moving average ... doesn't work\n",
    "        # mv_sum = frame_activation + mem_lambda * mv_sum\n",
    "        \n",
    "        # try to measure how sparse the pixels are \n",
    "        x_sum = np.sum(frame, 0)\n",
    "        x_idx = np.arange(0, frame.shape[1])\n",
    "        x_x = x_sum * x_idx\n",
    "        x_std = np.std(x_x)\n",
    "        \n",
    "        y_sum = np.sum(frame, 1)\n",
    "        y_idx = np.arange(0, frame.shape[0])\n",
    "        y_y = y_sum * y_idx\n",
    "        y_std = np.std(y_y)\n",
    "        \n",
    "        sparsity = (x_std + y_std)/2\n",
    "        \n",
    "        sparsity_arr[i] = sparsity\n",
    "        activation_arr[i] = frame_activation\n",
    "        \n",
    "#         plt.imshow(frame)\n",
    "#         plt.title(f\"{x_std} {y_std}\")\n",
    "#         plt.show()\n",
    "    \n",
    "    activation_arr /= activation_arr.max()\n",
    "    sparsity_arr /= sparsity_arr.max()\n",
    "\n",
    "#     activation_arr = activation_arr/(vid_arr.shape[1]*vid_arr.shape[2])\n",
    "    return activation_arr, sparsity_arr"
   ]
  },
  {
   "cell_type": "code",
   "execution_count": 33,
   "id": "274b7786-2ceb-41a7-8d7b-436eefd2a5ea",
   "metadata": {},
   "outputs": [
    {
     "name": "stdin",
     "output_type": "stream",
     "text": [
      "new video?\n",
      " n\n"
     ]
    }
   ],
   "source": [
    "if input(\"new video?\\n\") == \"yes\":\n",
    "    random_idx = np.random.randint(0,200)\n",
    "    test_vid_f = wolf_vid_fs[random_idx]\n",
    "\n",
    "    print(test_vid_f)\n",
    "\n",
    "    vid = load_video(test_vid_f, frames = 40*60)\n",
    "\n",
    "    vid = decrease_res_by_x(vid, int(vid.shape[2]/4), int(vid.shape[1]/4))\n",
    "    vid = vid.astype(np.int16)"
   ]
  },
  {
   "cell_type": "code",
   "execution_count": 68,
   "id": "afc8b97c-0698-43fb-9608-be2603afb142",
   "metadata": {},
   "outputs": [],
   "source": [
    "std_v = create_std_vid(vid, window_size = 12)\n",
    "std_v[std_v < 10] = 0"
   ]
  },
  {
   "cell_type": "code",
   "execution_count": 57,
   "id": "8399801f-2be0-475e-8c15-f6e025c1de93",
   "metadata": {},
   "outputs": [],
   "source": [
    "std_v_copy = np.copy(std_v)"
   ]
  },
  {
   "cell_type": "code",
   "execution_count": 58,
   "id": "67f859a4-4e2c-4e20-8345-f959a7b41726",
   "metadata": {},
   "outputs": [],
   "source": [
    "std_v_copy[std_v_copy < 10] = 0"
   ]
  },
  {
   "cell_type": "code",
   "execution_count": 69,
   "id": "9be9411f-1dcf-4329-a335-e4349a4e82e7",
   "metadata": {},
   "outputs": [
    {
     "data": {
      "image/png": "[encoded data removed]",
      "text/plain": [
       "<Figure size 432x288 with 2 Axes>"
      ]
     },
     "metadata": {
      "needs_background": "light"
     },
     "output_type": "display_data"
    }
   ],
   "source": [
    "plt.imshow(std_v[8])\n",
    "plt.colorbar()\n",
    "plt.show()"
   ]
  },
  {
   "cell_type": "code",
   "execution_count": 70,
   "id": "9518b41f-5072-4afe-9f8e-1599a554cc2f",
   "metadata": {},
   "outputs": [],
   "source": [
    "activation_arr, sparsity_arr = get_activation_in_frames(std_v)"
   ]
  },
  {
   "cell_type": "code",
   "execution_count": 71,
   "id": "4a37f8d8-b5a6-4f33-b5e1-11a6af478fcd",
   "metadata": {},
   "outputs": [
    {
     "name": "stdout",
     "output_type": "stream",
     "text": [
      "/Users/alex_wheelis/Documents/programming/red_wolf_detection/backend/algo_dev/video/raw.mp4\n",
      "/Users/alex_wheelis/Documents/programming/red_wolf_detection/backend/algo_dev/video/std_w_activation.mp4\n"
     ]
    }
   ],
   "source": [
    "frame_idx = np.arange(0, activation_arr.shape[0])\n",
    "\n",
    "save_video(vid, \"raw\")\n",
    "act_arr = activation_arr/np.max(activation_arr)\n",
    "save_video_w_mvmt_annotations(std_v, activation_arr, \"std_w_activation\", fps = 60)"
   ]
  },
  {
   "cell_type": "code",
   "execution_count": 72,
   "id": "d052eaf7-180d-45d1-b381-307dafd4d716",
   "metadata": {},
   "outputs": [
    {
     "data": {
      "image/png": "[encoded data removed]",
      "text/plain": [
       "<Figure size 432x288 with 1 Axes>"
      ]
     },
     "metadata": {
      "needs_background": "light"
     },
     "output_type": "display_data"
    }
   ],
   "source": [
    "ran = range(0, 305)\n",
    "plt.plot(frame_idx[ran], activation_arr[ran], label = \"activation\")\n",
    "plt.plot(frame_idx[ran], sparsity_arr[ran], label = \"sparsity\")\n",
    "plt.legend()\n",
    "plt.show()"
   ]
  },
  {
   "cell_type": "code",
   "execution_count": 13,
   "id": "80121798-d186-4de6-b053-ff26ecb66647",
   "metadata": {},
   "outputs": [
    {
     "ename": "NameError",
     "evalue": "name 'act_arr' is not defined",
     "output_type": "error",
     "traceback": [
      "\u001b[0;31m---------------------------------------------------------------------------\u001b[0m",
      "\u001b[0;31mNameError\u001b[0m                                 Traceback (most recent call last)",
      "\u001b[0;32m<ipython-input-13-70566f128280>\u001b[0m in \u001b[0;36m<module>\u001b[0;34m\u001b[0m\n\u001b[0;32m----> 1\u001b[0;31m \u001b[0mplt\u001b[0m\u001b[0;34m.\u001b[0m\u001b[0mplot\u001b[0m\u001b[0;34m(\u001b[0m\u001b[0mact_arr\u001b[0m\u001b[0;34m)\u001b[0m\u001b[0;34m\u001b[0m\u001b[0;34m\u001b[0m\u001b[0m\n\u001b[0m\u001b[1;32m      2\u001b[0m \u001b[0mplt\u001b[0m\u001b[0;34m.\u001b[0m\u001b[0mshow\u001b[0m\u001b[0;34m(\u001b[0m\u001b[0;34m)\u001b[0m\u001b[0;34m\u001b[0m\u001b[0;34m\u001b[0m\u001b[0m\n",
      "\u001b[0;31mNameError\u001b[0m: name 'act_arr' is not defined"
     ]
    }
   ],
   "source": [
    "plt.plot(act_arr)\n",
    "plt.show()\n"
   ]
  },
  {
   "cell_type": "code",
   "execution_count": null,
   "id": "47c12bc3-c156-4ff3-ab59-e6798c3e42ee",
   "metadata": {},
   "outputs": [],
   "source": []
  },
  {
   "cell_type": "code",
   "execution_count": null,
   "id": "9d843bad-aad7-4e0f-9e92-4957636dcb2d",
   "metadata": {},
   "outputs": [],
   "source": []
  },
  {
   "cell_type": "code",
   "execution_count": null,
   "id": "bbcf082e-f880-487e-b9a5-b6d9bee9af06",
   "metadata": {},
   "outputs": [],
   "source": []
  },
  {
   "cell_type": "code",
   "execution_count": null,
   "id": "9c1ce5cc-0b5f-4004-9bbe-f833048695f7",
   "metadata": {},
   "outputs": [],
   "source": []
  },
  {
   "cell_type": "code",
   "execution_count": null,
   "id": "529803bf-e46a-44f6-bf8c-f1e0b36f348e",
   "metadata": {},
   "outputs": [],
   "source": []
  }
 ],
 "metadata": {
  "kernelspec": {
   "display_name": "Python 3",
   "language": "python",
   "name": "python3"
  },
  "language_info": {
   "codemirror_mode": {
    "name": "ipython",
    "version": 3
   },
   "file_extension": ".py",
   "mimetype": "text/x-python",
   "name": "python",
   "nbconvert_exporter": "python",
   "pygments_lexer": "ipython3",
   "version": "3.8.8"
  }
 },
 "nbformat": 4,
 "nbformat_minor": 5
}
