{
 "cells": [
  {
   "cell_type": "code",
   "execution_count": 1,
   "id": "58b4e681-f333-428e-9dab-2ffa05f18c0c",
   "metadata": {},
   "outputs": [],
   "source": [
    "import numpy as np\n",
    "import matplotlib.pyplot as plt\n",
    "import cv2\n",
    "import os\n",
    "from glob import glob\n",
    "\n",
    "import sys\n",
    "sys.path.append(\"/Users/alex_wheelis/Documents/programming/red_wolf_detection/backend/video_basics\")\n",
    "from video import Video"
   ]
  },
  {
   "cell_type": "code",
   "execution_count": 2,
   "id": "bc7fc1be-2c78-411d-9a11-711a06c414fd",
   "metadata": {},
   "outputs": [],
   "source": [
    "wolf_dir = \"/Users/alex_wheelis/Documents/Fall2022/ECE 484/DCIM/100_BTCF\"\n",
    "\n",
    "wolf_vid_fs = glob(wolf_dir + \"/*\")\n",
    "\n",
    "test_vid_f = wolf_vid_fs[0]"
   ]
  },
  {
   "cell_type": "code",
   "execution_count": 3,
   "id": "179909f2-02f4-4c51-b9ef-29bc907a4eff",
   "metadata": {},
   "outputs": [],
   "source": [
    "wolf_test_vid = Video(test_vid_f)"
   ]
  },
  {
   "cell_type": "code",
   "execution_count": 4,
   "id": "20e4990e-48c4-476b-8a48-b23526f711a8",
   "metadata": {},
   "outputs": [],
   "source": [
    "wolf_test_vid.load_video()"
   ]
  },
  {
   "cell_type": "code",
   "execution_count": 5,
   "id": "eb4e344a-0c46-4be7-a46f-a9c2c4eeb1cc",
   "metadata": {},
   "outputs": [
    {
     "data": {
      "text/plain": [
       "(220, 1080, 1920)"
      ]
     },
     "execution_count": 5,
     "metadata": {},
     "output_type": "execute_result"
    }
   ],
   "source": [
    "wolf_test_vid.video_array.shape"
   ]
  },
  {
   "cell_type": "code",
   "execution_count": 6,
   "id": "1f520877-e1ac-4971-9290-7a1b9ab0c05e",
   "metadata": {},
   "outputs": [],
   "source": [
    "wolf_test_vid.decrease_res_by_x(500, 500)"
   ]
  },
  {
   "cell_type": "code",
   "execution_count": 10,
   "id": "a3dace73-b383-476e-b5e1-22880cdbff37",
   "metadata": {},
   "outputs": [
    {
     "data": {
      "text/plain": [
       "(220, 500, 500)"
      ]
     },
     "execution_count": 10,
     "metadata": {},
     "output_type": "execute_result"
    }
   ],
   "source": [
    "wolf_test_vid.decreased_res_array.shape"
   ]
  },
  {
   "cell_type": "code",
   "execution_count": null,
   "id": "f3dd4f66-bd99-49a9-b164-621ff944007d",
   "metadata": {},
   "outputs": [],
   "source": []
  },
  {
   "cell_type": "code",
   "execution_count": null,
   "id": "3f875b84-825e-4850-8939-78d13f60d75e",
   "metadata": {},
   "outputs": [],
   "source": []
  },
  {
   "cell_type": "code",
   "execution_count": null,
   "id": "e1e0a7bf-6ccc-4cd7-9429-f9caf7bfd779",
   "metadata": {},
   "outputs": [],
   "source": []
  }
 ],
 "metadata": {
  "kernelspec": {
   "display_name": "Python 3",
   "language": "python",
   "name": "python3"
  },
  "language_info": {
   "codemirror_mode": {
    "name": "ipython",
    "version": 3
   },
   "file_extension": ".py",
   "mimetype": "text/x-python",
   "name": "python",
   "nbconvert_exporter": "python",
   "pygments_lexer": "ipython3",
   "version": "3.8.8"
  }
 },
 "nbformat": 4,
 "nbformat_minor": 5
}
