{
 "cells": [
  {
   "cell_type": "code",
   "execution_count": 4,
   "id": "58b4e681-f333-428e-9dab-2ffa05f18c0c",
   "metadata": {},
   "outputs": [],
   "source": [
    "import numpy as np\n",
    "import matplotlib.pyplot as plt\n",
    "import cv2\n",
    "import os\n",
    "\n"
   ]
  },
  {
   "cell_type": "code",
   "execution_count": 6,
   "id": "3b743878-729f-4324-b7a8-f3bbc65d784d",
   "metadata": {},
   "outputs": [],
   "source": [
    "wolf_dir = \"/Users/alex_wheelis/Documents/Fall2022/ECE 484/DCIM/100_BTCF\""
   ]
  },
  {
   "cell_type": "code",
   "execution_count": null,
   "id": "f3950d4f-6974-43b7-bf81-95265db2e98e",
   "metadata": {},
   "outputs": [],
   "source": []
  }
 ],
 "metadata": {
  "kernelspec": {
   "display_name": "Python 3",
   "language": "python",
   "name": "python3"
  },
  "language_info": {
   "codemirror_mode": {
    "name": "ipython",
    "version": 3
   },
   "file_extension": ".py",
   "mimetype": "text/x-python",
   "name": "python",
   "nbconvert_exporter": "python",
   "pygments_lexer": "ipython3",
   "version": "3.8.8"
  }
 },
 "nbformat": 4,
 "nbformat_minor": 5
}
