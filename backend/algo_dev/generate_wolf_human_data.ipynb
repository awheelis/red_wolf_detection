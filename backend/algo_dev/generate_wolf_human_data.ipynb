{
 "cells": [
  {
   "cell_type": "code",
   "execution_count": 38,
   "id": "b8f82a82-44a3-4fa3-b10f-84514ad04b77",
   "metadata": {},
   "outputs": [],
   "source": [
    "# import the necessary packages\n",
    "import numpy as np\n",
    "import cv2\n",
    "import sys\n",
    "import matplotlib.pyplot as plt\n",
    "from tqdm import tqdm as tqdm\n",
    "import glob\n",
    "sys.path.append(\"/Users/alex_wheelis/Documents/programming/red_wolf_detection/backend/algo_dev\")\n",
    "from misc import *"
   ]
  },
  {
   "cell_type": "code",
   "execution_count": 39,
   "id": "e8085e50-4ddf-4712-9073-50b932b895a9",
   "metadata": {},
   "outputs": [
    {
     "data": {
      "text/plain": [
       "207"
      ]
     },
     "execution_count": 39,
     "metadata": {},
     "output_type": "execute_result"
    }
   ],
   "source": [
    "# basic wolf video \n",
    "wolf_dir = \"/Users/alex_wheelis/Documents/Fall2022/ECE 484/DCIM/100_BTCF\"\n",
    "\n",
    "# list of wolf video files\n",
    "wolf_vid_fs = sorted(glob(wolf_dir + \"/*\"))\n",
    "len(wolf_vid_fs)"
   ]
  },
  {
   "cell_type": "code",
   "execution_count": 40,
   "id": "2e76a8c8-5a24-4b9c-a0d0-d7d90fad5e2d",
   "metadata": {},
   "outputs": [
    {
     "name": "stdout",
     "output_type": "stream",
     "text": [
      "51\n"
     ]
    }
   ],
   "source": [
    "# wolf videos from the vet school\n",
    "vet_dir = \"/Users/alex_wheelis/Documents/programming/red_wolf_detection/backend/algo_dev/vet_school_wolf_data\"\n",
    "\n",
    "# list of wolf video files\n",
    "vet_vid_fs = sorted(glob(vet_dir + \"/*\"))\n",
    "print(len(vet_vid_fs))"
   ]
  },
  {
   "cell_type": "code",
   "execution_count": 3,
   "id": "6b5ac661-f3dc-4e85-ab21-df3f39efef00",
   "metadata": {},
   "outputs": [],
   "source": [
    "np.random.seed(42)"
   ]
  },
  {
   "cell_type": "code",
   "execution_count": 5,
   "id": "9150a382-aa6c-4dd3-9c00-d635b51ef558",
   "metadata": {},
   "outputs": [
    {
     "name": "stderr",
     "output_type": "stream",
     "text": [
      "26it [01:31,  3.53s/it]\n"
     ]
    }
   ],
   "source": [
    "interval = 100\n",
    "skip = 2\n",
    "for i, vid_f in tqdm(enumerate(vet_vid_fs[::skip])): \n",
    "    wolf_test_vid = load_video(vid_f, end = 3600, interval = interval)\n",
    "    for j, frame in enumerate(wolf_test_vid):\n",
    "        plt.imsave(f'./vet_school_img_dataset/vid_{(i)*skip}_frame{j*interval}.png', frame, cmap = 'gray')\n"
   ]
  },
  {
   "cell_type": "markdown",
   "id": "1864058b-3948-426b-b8d2-5b55c5762657",
   "metadata": {},
   "source": [
    "\n",
    "# Check truths"
   ]
  },
  {
   "cell_type": "code",
   "execution_count": 41,
   "id": "20a7ac1f-9d23-40ff-89c8-29a8271c6d37",
   "metadata": {},
   "outputs": [],
   "source": [
    "import pandas as pd"
   ]
  },
  {
   "cell_type": "code",
   "execution_count": 42,
   "id": "577532cd-7284-4d1d-890b-9928577dd0fa",
   "metadata": {},
   "outputs": [],
   "source": [
    "madison_fs = glob('./wolf_human_dataset/*')"
   ]
  },
  {
   "cell_type": "code",
   "execution_count": 43,
   "id": "33a9b0c0-77a9-438e-aa2e-f9412006e069",
   "metadata": {},
   "outputs": [],
   "source": [
    "vet_df = pd.read_csv('./truths/labels_vet-school-dataset-1_2023-02-25-12-14-38.txt')\n",
    "madison_df = pd.read_csv('./truths/labels_vet-school-dataset-1_2023-02-25-12-14-38.txt')"
   ]
  },
  {
   "cell_type": "code",
   "execution_count": null,
   "id": "8e5cf563-5717-4180-9d28-b85c834fe564",
   "metadata": {},
   "outputs": [],
   "source": [
    "# CHECK IMAGES W/O TRUTHS TO MAKE SURE THEY ARE CORRECT"
   ]
  }
 ],
 "metadata": {
  "kernelspec": {
   "display_name": "Python 3",
   "language": "python",
   "name": "python3"
  },
  "language_info": {
   "codemirror_mode": {
    "name": "ipython",
    "version": 3
   },
   "file_extension": ".py",
   "mimetype": "text/x-python",
   "name": "python",
   "nbconvert_exporter": "python",
   "pygments_lexer": "ipython3",
   "version": "3.8.8"
  }
 },
 "nbformat": 4,
 "nbformat_minor": 5
}
