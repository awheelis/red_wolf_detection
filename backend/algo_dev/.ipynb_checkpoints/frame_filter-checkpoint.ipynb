{
 "cells": [
  {
   "cell_type": "code",
   "execution_count": 81,
   "id": "58b4e681-f333-428e-9dab-2ffa05f18c0c",
   "metadata": {},
   "outputs": [],
   "source": [
    "import numpy as np\n",
    "import matplotlib.pyplot as plt\n",
    "import cv2\n",
    "import os\n",
    "from glob import glob\n",
    "\n",
    "import sys\n",
    "sys.path.append(\"/Users/alex_wheelis/Documents/programming/red_wolf_detection/backend/video_basics\")\n",
    "from video import Video"
   ]
  },
  {
   "cell_type": "code",
   "execution_count": 82,
   "id": "bc7fc1be-2c78-411d-9a11-711a06c414fd",
   "metadata": {},
   "outputs": [],
   "source": [
    "wolf_dir = \"/Users/alex_wheelis/Documents/Fall2022/ECE 484/DCIM/100_BTCF\"\n",
    "\n",
    "wolf_vid_fs = glob(wolf_dir + \"/*\")\n",
    "\n",
    "test_vid_f = wolf_vid_fs[0]"
   ]
  },
  {
   "cell_type": "code",
   "execution_count": 87,
   "id": "179909f2-02f4-4c51-b9ef-29bc907a4eff",
   "metadata": {},
   "outputs": [],
   "source": [
    "wolf_test_vid = Video(test_vid_f)"
   ]
  },
  {
   "cell_type": "code",
   "execution_count": 84,
   "id": "20e4990e-48c4-476b-8a48-b23526f711a8",
   "metadata": {},
   "outputs": [],
   "source": [
    "wolf_test_vid.load_video()"
   ]
  },
  {
   "cell_type": "code",
   "execution_count": 86,
   "id": "eb4e344a-0c46-4be7-a46f-a9c2c4eeb1cc",
   "metadata": {},
   "outputs": [
    {
     "data": {
      "text/plain": [
       "(220, 1080, 1920)"
      ]
     },
     "execution_count": 86,
     "metadata": {},
     "output_type": "execute_result"
    }
   ],
   "source": [
    "wolf_test_vid.video_array.shape"
   ]
  },
  {
   "cell_type": "code",
   "execution_count": null,
   "id": "1f520877-e1ac-4971-9290-7a1b9ab0c05e",
   "metadata": {},
   "outputs": [],
   "source": []
  }
 ],
 "metadata": {
  "kernelspec": {
   "display_name": "Python 3",
   "language": "python",
   "name": "python3"
  },
  "language_info": {
   "codemirror_mode": {
    "name": "ipython",
    "version": 3
   },
   "file_extension": ".py",
   "mimetype": "text/x-python",
   "name": "python",
   "nbconvert_exporter": "python",
   "pygments_lexer": "ipython3",
   "version": "3.8.8"
  }
 },
 "nbformat": 4,
 "nbformat_minor": 5
}
